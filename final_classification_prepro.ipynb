{
 "cells": [
  {
   "cell_type": "markdown",
   "id": "22ed71f2",
   "metadata": {},
   "source": [
    "참고: https://wikidocs.net/94600  \n",
    "https://github.com/threegenie/sentiment_project/blob/main/sentiment_project_using_okt.ipynb"
   ]
  },
  {
   "cell_type": "code",
   "execution_count": 1,
   "id": "0bc65de3",
   "metadata": {},
   "outputs": [],
   "source": [
    "import pandas as pd\n",
    "import seaborn as sns\n",
    "import numpy as np\n",
    "# import pykospacing\n",
    "# spacer = pykospacing.Spacing()\n",
    "from konlpy.tag import Okt\n",
    "okt = Okt()\n",
    "from konlp.kma.klt2023 import klt2023\n",
    "k = klt2023()\n",
    "import re\n",
    "from wordcloud import WordCloud\n",
    "import matplotlib.pyplot as plt\n",
    "%matplotlib inline\n",
    "from collections import Counter\n",
    "import time\n",
    "from sklearn.model_selection import train_test_split\n",
    "from tensorflow.keras.preprocessing.text import Tokenizer\n",
    "from tensorflow.keras.preprocessing.sequence import pad_sequences\n"
   ]
  },
  {
   "cell_type": "markdown",
   "id": "f02bd1bd",
   "metadata": {},
   "source": [
    "### 총 데이터 합치기"
   ]
  },
  {
   "cell_type": "code",
   "execution_count": 2,
   "id": "eea308c4",
   "metadata": {},
   "outputs": [],
   "source": [
    "# 현재까지 모은 데이터 셋 \n",
    "df_trn = pd.read_csv('data/train.csv')\n",
    "df_tst = pd.read_csv('data/test.csv')\n",
    "df_craw = pd.read_csv('data/Crawling_final.csv')"
   ]
  },
  {
   "cell_type": "code",
   "execution_count": 3,
   "id": "647013f2",
   "metadata": {},
   "outputs": [],
   "source": [
    "# 텍스트 파일 열기\n",
    "with open('data/naver_shopping.txt', 'r', encoding='utf-8') as file:\n",
    "    data = file.readlines()\n",
    "\n",
    "# 줄 바꿈 문자 제거 및 각 줄을 공백을 기준으로 분할하여 리스트로 변환\n",
    "data = [line.strip().split('\\t') for line in data]\n",
    "\n",
    "# 리스트를 데이터프레임으로 변환\n",
    "df_git = pd.DataFrame(data, columns=['ReviewScore', 'RawText'])\n",
    "\n",
    "# '평점' 열의 데이터 타입을 정수로 변환\n",
    "df_git['ReviewScore'] = df_git['ReviewScore'].astype(int)"
   ]
  },
  {
   "cell_type": "code",
   "execution_count": 4,
   "id": "db4171e6",
   "metadata": {},
   "outputs": [],
   "source": [
    "df_hub = pd.concat([df_trn, df_tst], ignore_index=True)"
   ]
  },
  {
   "cell_type": "code",
   "execution_count": 5,
   "id": "a4991899",
   "metadata": {},
   "outputs": [
    {
     "data": {
      "text/html": [
       "<div>\n",
       "<style scoped>\n",
       "    .dataframe tbody tr th:only-of-type {\n",
       "        vertical-align: middle;\n",
       "    }\n",
       "\n",
       "    .dataframe tbody tr th {\n",
       "        vertical-align: top;\n",
       "    }\n",
       "\n",
       "    .dataframe thead th {\n",
       "        text-align: right;\n",
       "    }\n",
       "</style>\n",
       "<table border=\"1\" class=\"dataframe\">\n",
       "  <thead>\n",
       "    <tr style=\"text-align: right;\">\n",
       "      <th></th>\n",
       "      <th>Index</th>\n",
       "      <th>RawText</th>\n",
       "      <th>ReviewScore</th>\n",
       "      <th>ProductName</th>\n",
       "    </tr>\n",
       "  </thead>\n",
       "  <tbody>\n",
       "    <tr>\n",
       "      <th>0</th>\n",
       "      <td>761636</td>\n",
       "      <td>머리결이 푸석해졌어요. 염색시간은 3시간정도 해야하는데 너무 번거로워요.</td>\n",
       "      <td>5</td>\n",
       "      <td>OO 헤나 파우더 100g 1개</td>\n",
       "    </tr>\n",
       "    <tr>\n",
       "      <th>1</th>\n",
       "      <td>761719</td>\n",
       "      <td>천연헤나가 좋다는 건 알지만 흰머리 염색은 너무 번거롭고 오래걸리는 단점이 있네요....</td>\n",
       "      <td>5</td>\n",
       "      <td>OO 헤나 파우더 100g 1개</td>\n",
       "    </tr>\n",
       "    <tr>\n",
       "      <th>2</th>\n",
       "      <td>761720</td>\n",
       "      <td>다크 브라운으로 염색했는데, 발색이 블랙처럼 너무 어둡습니다. 염색 다음날 투명으로...</td>\n",
       "      <td>5</td>\n",
       "      <td>OO 헤나 파우더 100g 1개</td>\n",
       "    </tr>\n",
       "    <tr>\n",
       "      <th>3</th>\n",
       "      <td>761743</td>\n",
       "      <td>염색할때 헤나를 계속 사용했는데요 ㅇㅇㅇ는 처음 사용해보네요. 염색은 잘 되는것 같...</td>\n",
       "      <td>4</td>\n",
       "      <td>OO 헤나 파우더 100g 1개</td>\n",
       "    </tr>\n",
       "    <tr>\n",
       "      <th>4</th>\n",
       "      <td>761756</td>\n",
       "      <td>첫번째 주문입니다. 저렴한 가격도 아닌데, 염색이 잘 되지 않습니다. 사용하기도 불...</td>\n",
       "      <td>5</td>\n",
       "      <td>OO 헤나 파우더 100g 1개</td>\n",
       "    </tr>\n",
       "    <tr>\n",
       "      <th>...</th>\n",
       "      <td>...</td>\n",
       "      <td>...</td>\n",
       "      <td>...</td>\n",
       "      <td>...</td>\n",
       "    </tr>\n",
       "    <tr>\n",
       "      <th>202695</th>\n",
       "      <td>84800</td>\n",
       "      <td>카드할인 받아서 저렴하게 구매한 점이 좋았어요 다만 전원을 좀 오래 눌러야 작동하는...</td>\n",
       "      <td>5</td>\n",
       "      <td>마샬 STANMORE II 해외구매</td>\n",
       "    </tr>\n",
       "    <tr>\n",
       "      <th>202696</th>\n",
       "      <td>84801</td>\n",
       "      <td>블랙이랑 화이트 한참고민했는데 화이트가 역시 깔끔하고 선택을 잘한것같아요 ~ 디자인...</td>\n",
       "      <td>5</td>\n",
       "      <td>마샬 STANMORE II 해외구매</td>\n",
       "    </tr>\n",
       "    <tr>\n",
       "      <th>202697</th>\n",
       "      <td>84802</td>\n",
       "      <td>블루투스 연결이 기존의 방식과 달라서 겨우 연결했는데 아쉽네요 상품외관상의 문제 없...</td>\n",
       "      <td>4</td>\n",
       "      <td>마샬 STANMORE II 해외구매</td>\n",
       "    </tr>\n",
       "    <tr>\n",
       "      <th>202698</th>\n",
       "      <td>84803</td>\n",
       "      <td>화이트라 깨끗해서 마음에 들어요 외관상 마감도 깔끔하고 찍힘없이 아주 잘와서 만족해요</td>\n",
       "      <td>5</td>\n",
       "      <td>마샬 STANMORE II 해외구매</td>\n",
       "    </tr>\n",
       "    <tr>\n",
       "      <th>202699</th>\n",
       "      <td>84804</td>\n",
       "      <td>aux케이블은 구성품에 없네요 아쉽 ㅠ 그래도 할인기간에 싸게 잘 샀어요^^굿굿</td>\n",
       "      <td>5</td>\n",
       "      <td>마샬 STANMORE II 해외구매</td>\n",
       "    </tr>\n",
       "  </tbody>\n",
       "</table>\n",
       "<p>202700 rows × 4 columns</p>\n",
       "</div>"
      ],
      "text/plain": [
       "         Index                                            RawText  \\\n",
       "0       761636           머리결이 푸석해졌어요. 염색시간은 3시간정도 해야하는데 너무 번거로워요.   \n",
       "1       761719  천연헤나가 좋다는 건 알지만 흰머리 염색은 너무 번거롭고 오래걸리는 단점이 있네요....   \n",
       "2       761720  다크 브라운으로 염색했는데, 발색이 블랙처럼 너무 어둡습니다. 염색 다음날 투명으로...   \n",
       "3       761743  염색할때 헤나를 계속 사용했는데요 ㅇㅇㅇ는 처음 사용해보네요. 염색은 잘 되는것 같...   \n",
       "4       761756  첫번째 주문입니다. 저렴한 가격도 아닌데, 염색이 잘 되지 않습니다. 사용하기도 불...   \n",
       "...        ...                                                ...   \n",
       "202695   84800  카드할인 받아서 저렴하게 구매한 점이 좋았어요 다만 전원을 좀 오래 눌러야 작동하는...   \n",
       "202696   84801  블랙이랑 화이트 한참고민했는데 화이트가 역시 깔끔하고 선택을 잘한것같아요 ~ 디자인...   \n",
       "202697   84802  블루투스 연결이 기존의 방식과 달라서 겨우 연결했는데 아쉽네요 상품외관상의 문제 없...   \n",
       "202698   84803    화이트라 깨끗해서 마음에 들어요 외관상 마감도 깔끔하고 찍힘없이 아주 잘와서 만족해요   \n",
       "202699   84804       aux케이블은 구성품에 없네요 아쉽 ㅠ 그래도 할인기간에 싸게 잘 샀어요^^굿굿   \n",
       "\n",
       "        ReviewScore          ProductName  \n",
       "0                 5    OO 헤나 파우더 100g 1개  \n",
       "1                 5    OO 헤나 파우더 100g 1개  \n",
       "2                 5    OO 헤나 파우더 100g 1개  \n",
       "3                 4    OO 헤나 파우더 100g 1개  \n",
       "4                 5    OO 헤나 파우더 100g 1개  \n",
       "...             ...                  ...  \n",
       "202695            5  마샬 STANMORE II 해외구매  \n",
       "202696            5  마샬 STANMORE II 해외구매  \n",
       "202697            4  마샬 STANMORE II 해외구매  \n",
       "202698            5  마샬 STANMORE II 해외구매  \n",
       "202699            5  마샬 STANMORE II 해외구매  \n",
       "\n",
       "[202700 rows x 4 columns]"
      ]
     },
     "execution_count": 5,
     "metadata": {},
     "output_type": "execute_result"
    }
   ],
   "source": [
    "df_hub"
   ]
  },
  {
   "cell_type": "code",
   "execution_count": 6,
   "id": "a3dea018",
   "metadata": {},
   "outputs": [
    {
     "data": {
      "text/html": [
       "<div>\n",
       "<style scoped>\n",
       "    .dataframe tbody tr th:only-of-type {\n",
       "        vertical-align: middle;\n",
       "    }\n",
       "\n",
       "    .dataframe tbody tr th {\n",
       "        vertical-align: top;\n",
       "    }\n",
       "\n",
       "    .dataframe thead th {\n",
       "        text-align: right;\n",
       "    }\n",
       "</style>\n",
       "<table border=\"1\" class=\"dataframe\">\n",
       "  <thead>\n",
       "    <tr style=\"text-align: right;\">\n",
       "      <th></th>\n",
       "      <th>Unnamed: 0</th>\n",
       "      <th>ReviewScore</th>\n",
       "      <th>RawText</th>\n",
       "      <th>ProductName</th>\n",
       "    </tr>\n",
       "  </thead>\n",
       "  <tbody>\n",
       "    <tr>\n",
       "      <th>0</th>\n",
       "      <td>0</td>\n",
       "      <td>5</td>\n",
       "      <td>좋은가격에 좋은질콜라겐을 꾸준히 먹을수있어 늘 만족해요. 식품이니 필수라 생각하고 ...</td>\n",
       "      <td>*분자 *쉬 콜라겐 가루 150g</td>\n",
       "    </tr>\n",
       "    <tr>\n",
       "      <th>1</th>\n",
       "      <td>1</td>\n",
       "      <td>5</td>\n",
       "      <td>가성비 좋아서 샀어요 \\n개별포장은 휴대해서 먹기 좋지만 이건 무조건 집에서 먹어야...</td>\n",
       "      <td>*분자 *쉬 콜라겐 가루 150g</td>\n",
       "    </tr>\n",
       "    <tr>\n",
       "      <th>2</th>\n",
       "      <td>2</td>\n",
       "      <td>5</td>\n",
       "      <td>좋아요 아주 좋아요 ㅎㅎ</td>\n",
       "      <td>*분자 *쉬 콜라겐 가루 150g</td>\n",
       "    </tr>\n",
       "    <tr>\n",
       "      <th>3</th>\n",
       "      <td>3</td>\n",
       "      <td>5</td>\n",
       "      <td>배송빨리왔어요 먹기편해요</td>\n",
       "      <td>*분자 *쉬 콜라겐 가루 150g</td>\n",
       "    </tr>\n",
       "    <tr>\n",
       "      <th>4</th>\n",
       "      <td>4</td>\n",
       "      <td>5</td>\n",
       "      <td>좋습니다.  합니다^^</td>\n",
       "      <td>*분자 *쉬 콜라겐 가루 150g</td>\n",
       "    </tr>\n",
       "    <tr>\n",
       "      <th>...</th>\n",
       "      <td>...</td>\n",
       "      <td>...</td>\n",
       "      <td>...</td>\n",
       "      <td>...</td>\n",
       "    </tr>\n",
       "    <tr>\n",
       "      <th>310226</th>\n",
       "      <td>646366</td>\n",
       "      <td>5</td>\n",
       "      <td>매번 주문해요!! 좋아요~!</td>\n",
       "      <td>만년도장 아크릴4푼검정</td>\n",
       "    </tr>\n",
       "    <tr>\n",
       "      <th>310227</th>\n",
       "      <td>646367</td>\n",
       "      <td>5</td>\n",
       "      <td>좋아요 매번 주문해서 사용중~~~~~</td>\n",
       "      <td>만년도장 아크릴4푼검정</td>\n",
       "    </tr>\n",
       "    <tr>\n",
       "      <th>310228</th>\n",
       "      <td>646368</td>\n",
       "      <td>5</td>\n",
       "      <td>ㅋㅋ 주문을 잘못했어요 한글 두개로 ㅋㅋ 하나는 한자로 해야되는데 졸지에 명인됨 ㅋㅋ</td>\n",
       "      <td>만년도장 아크릴4푼검정</td>\n",
       "    </tr>\n",
       "    <tr>\n",
       "      <th>310229</th>\n",
       "      <td>646371</td>\n",
       "      <td>5</td>\n",
       "      <td>도장찍을때마다 인주가 필요없어 넘 편해요</td>\n",
       "      <td>만년도장 아크릴4푼검정</td>\n",
       "    </tr>\n",
       "    <tr>\n",
       "      <th>310230</th>\n",
       "      <td>646372</td>\n",
       "      <td>5</td>\n",
       "      <td>배송도 빠르고 모양도 좋아요</td>\n",
       "      <td>만년도장 아크릴4푼검정</td>\n",
       "    </tr>\n",
       "  </tbody>\n",
       "</table>\n",
       "<p>310231 rows × 4 columns</p>\n",
       "</div>"
      ],
      "text/plain": [
       "        Unnamed: 0  ReviewScore  \\\n",
       "0                0            5   \n",
       "1                1            5   \n",
       "2                2            5   \n",
       "3                3            5   \n",
       "4                4            5   \n",
       "...            ...          ...   \n",
       "310226      646366            5   \n",
       "310227      646367            5   \n",
       "310228      646368            5   \n",
       "310229      646371            5   \n",
       "310230      646372            5   \n",
       "\n",
       "                                                  RawText         ProductName  \n",
       "0       좋은가격에 좋은질콜라겐을 꾸준히 먹을수있어 늘 만족해요. 식품이니 필수라 생각하고 ...  *분자 *쉬 콜라겐 가루 150g  \n",
       "1       가성비 좋아서 샀어요 \\n개별포장은 휴대해서 먹기 좋지만 이건 무조건 집에서 먹어야...  *분자 *쉬 콜라겐 가루 150g  \n",
       "2                                           좋아요 아주 좋아요 ㅎㅎ  *분자 *쉬 콜라겐 가루 150g  \n",
       "3                                           배송빨리왔어요 먹기편해요  *분자 *쉬 콜라겐 가루 150g  \n",
       "4                                            좋습니다.  합니다^^  *분자 *쉬 콜라겐 가루 150g  \n",
       "...                                                   ...                 ...  \n",
       "310226                                    매번 주문해요!! 좋아요~!        만년도장 아크릴4푼검정  \n",
       "310227                               좋아요 매번 주문해서 사용중~~~~~        만년도장 아크릴4푼검정  \n",
       "310228    ㅋㅋ 주문을 잘못했어요 한글 두개로 ㅋㅋ 하나는 한자로 해야되는데 졸지에 명인됨 ㅋㅋ        만년도장 아크릴4푼검정  \n",
       "310229                             도장찍을때마다 인주가 필요없어 넘 편해요        만년도장 아크릴4푼검정  \n",
       "310230                                    배송도 빠르고 모양도 좋아요        만년도장 아크릴4푼검정  \n",
       "\n",
       "[310231 rows x 4 columns]"
      ]
     },
     "execution_count": 6,
     "metadata": {},
     "output_type": "execute_result"
    }
   ],
   "source": [
    "df_craw"
   ]
  },
  {
   "cell_type": "code",
   "execution_count": 7,
   "id": "53ee89d3",
   "metadata": {},
   "outputs": [
    {
     "data": {
      "text/html": [
       "<div>\n",
       "<style scoped>\n",
       "    .dataframe tbody tr th:only-of-type {\n",
       "        vertical-align: middle;\n",
       "    }\n",
       "\n",
       "    .dataframe tbody tr th {\n",
       "        vertical-align: top;\n",
       "    }\n",
       "\n",
       "    .dataframe thead th {\n",
       "        text-align: right;\n",
       "    }\n",
       "</style>\n",
       "<table border=\"1\" class=\"dataframe\">\n",
       "  <thead>\n",
       "    <tr style=\"text-align: right;\">\n",
       "      <th></th>\n",
       "      <th>ReviewScore</th>\n",
       "      <th>RawText</th>\n",
       "    </tr>\n",
       "  </thead>\n",
       "  <tbody>\n",
       "    <tr>\n",
       "      <th>0</th>\n",
       "      <td>5</td>\n",
       "      <td>배공빠르고 굿</td>\n",
       "    </tr>\n",
       "    <tr>\n",
       "      <th>1</th>\n",
       "      <td>2</td>\n",
       "      <td>택배가 엉망이네용 저희집 밑에층에 말도없이 놔두고가고</td>\n",
       "    </tr>\n",
       "    <tr>\n",
       "      <th>2</th>\n",
       "      <td>5</td>\n",
       "      <td>아주좋아요 바지 정말 좋아서2개 더 구매했어요 이가격에 대박입니다. 바느질이 조금 ...</td>\n",
       "    </tr>\n",
       "    <tr>\n",
       "      <th>3</th>\n",
       "      <td>2</td>\n",
       "      <td>선물용으로 빨리 받아서 전달했어야 하는 상품이었는데 머그컵만 와서 당황했습니다. 전...</td>\n",
       "    </tr>\n",
       "    <tr>\n",
       "      <th>4</th>\n",
       "      <td>5</td>\n",
       "      <td>민트색상 예뻐요. 옆 손잡이는 거는 용도로도 사용되네요 ㅎㅎ</td>\n",
       "    </tr>\n",
       "    <tr>\n",
       "      <th>...</th>\n",
       "      <td>...</td>\n",
       "      <td>...</td>\n",
       "    </tr>\n",
       "    <tr>\n",
       "      <th>199995</th>\n",
       "      <td>2</td>\n",
       "      <td>장마라그런가!!! 달지않아요</td>\n",
       "    </tr>\n",
       "    <tr>\n",
       "      <th>199996</th>\n",
       "      <td>5</td>\n",
       "      <td>다이슨 케이스 구매했어요 다이슨 슈퍼소닉 드라이기 케이스 구매했어요가격 괜찮고 배송...</td>\n",
       "    </tr>\n",
       "    <tr>\n",
       "      <th>199997</th>\n",
       "      <td>5</td>\n",
       "      <td>로드샾에서 사는것보다 세배 저렴하네요 ㅜㅜ 자주이용할께요</td>\n",
       "    </tr>\n",
       "    <tr>\n",
       "      <th>199998</th>\n",
       "      <td>5</td>\n",
       "      <td>넘이쁘고 쎄련되보이네요~</td>\n",
       "    </tr>\n",
       "    <tr>\n",
       "      <th>199999</th>\n",
       "      <td>5</td>\n",
       "      <td>아직 사용해보지도않았고 다른 제품을 써본적이없어서 잘 모르겠지만 ㅎㅎ 배송은 빨랐습니다</td>\n",
       "    </tr>\n",
       "  </tbody>\n",
       "</table>\n",
       "<p>200000 rows × 2 columns</p>\n",
       "</div>"
      ],
      "text/plain": [
       "        ReviewScore                                            RawText\n",
       "0                 5                                            배공빠르고 굿\n",
       "1                 2                      택배가 엉망이네용 저희집 밑에층에 말도없이 놔두고가고\n",
       "2                 5  아주좋아요 바지 정말 좋아서2개 더 구매했어요 이가격에 대박입니다. 바느질이 조금 ...\n",
       "3                 2  선물용으로 빨리 받아서 전달했어야 하는 상품이었는데 머그컵만 와서 당황했습니다. 전...\n",
       "4                 5                  민트색상 예뻐요. 옆 손잡이는 거는 용도로도 사용되네요 ㅎㅎ\n",
       "...             ...                                                ...\n",
       "199995            2                                    장마라그런가!!! 달지않아요\n",
       "199996            5  다이슨 케이스 구매했어요 다이슨 슈퍼소닉 드라이기 케이스 구매했어요가격 괜찮고 배송...\n",
       "199997            5                    로드샾에서 사는것보다 세배 저렴하네요 ㅜㅜ 자주이용할께요\n",
       "199998            5                                      넘이쁘고 쎄련되보이네요~\n",
       "199999            5   아직 사용해보지도않았고 다른 제품을 써본적이없어서 잘 모르겠지만 ㅎㅎ 배송은 빨랐습니다\n",
       "\n",
       "[200000 rows x 2 columns]"
      ]
     },
     "execution_count": 7,
     "metadata": {},
     "output_type": "execute_result"
    }
   ],
   "source": [
    "df_git"
   ]
  },
  {
   "cell_type": "code",
   "execution_count": 8,
   "id": "45fc19cb",
   "metadata": {
    "scrolled": true
   },
   "outputs": [
    {
     "data": {
      "text/plain": [
       "ReviewScore\n",
       "5      102130\n",
       "100     53409\n",
       "4       17811\n",
       "80       8428\n",
       "60       4343\n",
       "3        4289\n",
       "70       2265\n",
       "20       1795\n",
       "40       1577\n",
       "10       1533\n",
       "1        1502\n",
       "50       1243\n",
       "90       1024\n",
       "2         745\n",
       "30        482\n",
       "0         124\n",
       "Name: count, dtype: int64"
      ]
     },
     "execution_count": 8,
     "metadata": {},
     "output_type": "execute_result"
    }
   ],
   "source": [
    "# AI허브의 속성 기반 데이터 22만건: 평점이 1~100점으로 분포\n",
    "df_hub['ReviewScore'].value_counts()"
   ]
  },
  {
   "cell_type": "code",
   "execution_count": 9,
   "id": "6835c977",
   "metadata": {},
   "outputs": [
    {
     "data": {
      "text/plain": [
       "ReviewScore\n",
       "5    144265\n",
       "3     87391\n",
       "4     49761\n",
       "2     16233\n",
       "1     12581\n",
       "Name: count, dtype: int64"
      ]
     },
     "execution_count": 9,
     "metadata": {},
     "output_type": "execute_result"
    }
   ],
   "source": [
    "# 크롤링 데이터: 평점이 1~5점으로 분포\n",
    "df_craw['ReviewScore'].value_counts()"
   ]
  },
  {
   "cell_type": "code",
   "execution_count": 10,
   "id": "8d469af6",
   "metadata": {},
   "outputs": [],
   "source": [
    "# ReviewScore가 3인 행을 제거\n",
    "df_craw = df_craw[df_craw['ReviewScore'] != 3]"
   ]
  },
  {
   "cell_type": "code",
   "execution_count": 11,
   "id": "ee1a9263",
   "metadata": {},
   "outputs": [
    {
     "data": {
      "text/plain": [
       "ReviewScore\n",
       "5    81177\n",
       "2    63989\n",
       "1    36048\n",
       "4    18786\n",
       "Name: count, dtype: int64"
      ]
     },
     "execution_count": 11,
     "metadata": {},
     "output_type": "execute_result"
    }
   ],
   "source": [
    "# 깃허브 데이터: 평점이 1~5점으로 분포\n",
    "df_git['ReviewScore'].value_counts()"
   ]
  },
  {
   "cell_type": "markdown",
   "id": "94da4314",
   "metadata": {},
   "source": [
    "### 클래스 분류"
   ]
  },
  {
   "cell_type": "code",
   "execution_count": 12,
   "id": "a11434d9",
   "metadata": {},
   "outputs": [
    {
     "name": "stderr",
     "output_type": "stream",
     "text": [
      "/var/folders/ph/hz48_2z57cj0x4b76mfndvkc0000gn/T/ipykernel_10898/2103925721.py:5: SettingWithCopyWarning: \n",
      "A value is trying to be set on a copy of a slice from a DataFrame.\n",
      "Try using .loc[row_indexer,col_indexer] = value instead\n",
      "\n",
      "See the caveats in the documentation: https://pandas.pydata.org/pandas-docs/stable/user_guide/indexing.html#returning-a-view-versus-a-copy\n",
      "  df_craw['labels'] = df_craw['ReviewScore'].apply(lambda x: 0 if 1 <= x <= 2 else 1)\n"
     ]
    }
   ],
   "source": [
    "# 1~100점으로 분포된 평점에서 1~50은 0(부정), 51~100은 1(긍정)\n",
    "df_hub['labels'] = df_hub['ReviewScore'].apply(lambda x: 0 if 0 <= x <= 50 else 1)\n",
    "\n",
    "# 1~5점으로 분포된 평점에서 1~2은 0(부정), 4~5은 1(긍정)\n",
    "df_craw['labels'] = df_craw['ReviewScore'].apply(lambda x: 0 if 1 <= x <= 2 else 1)\n",
    "\n",
    "# 1~5점으로 분포된 평점에서 1~2은 0(부정), 4~5은 1(긍정)\n",
    "df_git['labels'] = df_git['ReviewScore'].apply(lambda x: 0 if 1 <= x <= 2 else 1)"
   ]
  },
  {
   "cell_type": "code",
   "execution_count": 13,
   "id": "9cb25572",
   "metadata": {},
   "outputs": [],
   "source": [
    "# 데이터프레임을 리스트에 담기\n",
    "dfs = [df_hub, df_craw, df_git]\n",
    "\n",
    "# 데이터프레임 위아래로 합치기\n",
    "df = pd.concat(dfs, ignore_index=True)\n",
    "\n",
    "# 필요없는 열 제거\n",
    "df.drop(columns=['Index', 'Unnamed: 0'], inplace=True)\n",
    "df.dropna(subset=['RawText'], inplace=True)"
   ]
  },
  {
   "cell_type": "code",
   "execution_count": 14,
   "id": "b8940afe",
   "metadata": {
    "scrolled": false
   },
   "outputs": [
    {
     "data": {
      "text/html": [
       "<div>\n",
       "<style scoped>\n",
       "    .dataframe tbody tr th:only-of-type {\n",
       "        vertical-align: middle;\n",
       "    }\n",
       "\n",
       "    .dataframe tbody tr th {\n",
       "        vertical-align: top;\n",
       "    }\n",
       "\n",
       "    .dataframe thead th {\n",
       "        text-align: right;\n",
       "    }\n",
       "</style>\n",
       "<table border=\"1\" class=\"dataframe\">\n",
       "  <thead>\n",
       "    <tr style=\"text-align: right;\">\n",
       "      <th></th>\n",
       "      <th>RawText</th>\n",
       "      <th>ReviewScore</th>\n",
       "      <th>ProductName</th>\n",
       "      <th>labels</th>\n",
       "    </tr>\n",
       "  </thead>\n",
       "  <tbody>\n",
       "    <tr>\n",
       "      <th>0</th>\n",
       "      <td>머리결이 푸석해졌어요. 염색시간은 3시간정도 해야하는데 너무 번거로워요.</td>\n",
       "      <td>5</td>\n",
       "      <td>OO 헤나 파우더 100g 1개</td>\n",
       "      <td>0</td>\n",
       "    </tr>\n",
       "    <tr>\n",
       "      <th>1</th>\n",
       "      <td>천연헤나가 좋다는 건 알지만 흰머리 염색은 너무 번거롭고 오래걸리는 단점이 있네요....</td>\n",
       "      <td>5</td>\n",
       "      <td>OO 헤나 파우더 100g 1개</td>\n",
       "      <td>0</td>\n",
       "    </tr>\n",
       "    <tr>\n",
       "      <th>2</th>\n",
       "      <td>다크 브라운으로 염색했는데, 발색이 블랙처럼 너무 어둡습니다. 염색 다음날 투명으로...</td>\n",
       "      <td>5</td>\n",
       "      <td>OO 헤나 파우더 100g 1개</td>\n",
       "      <td>0</td>\n",
       "    </tr>\n",
       "    <tr>\n",
       "      <th>3</th>\n",
       "      <td>염색할때 헤나를 계속 사용했는데요 ㅇㅇㅇ는 처음 사용해보네요. 염색은 잘 되는것 같...</td>\n",
       "      <td>4</td>\n",
       "      <td>OO 헤나 파우더 100g 1개</td>\n",
       "      <td>0</td>\n",
       "    </tr>\n",
       "    <tr>\n",
       "      <th>4</th>\n",
       "      <td>첫번째 주문입니다. 저렴한 가격도 아닌데, 염색이 잘 되지 않습니다. 사용하기도 불...</td>\n",
       "      <td>5</td>\n",
       "      <td>OO 헤나 파우더 100g 1개</td>\n",
       "      <td>0</td>\n",
       "    </tr>\n",
       "    <tr>\n",
       "      <th>...</th>\n",
       "      <td>...</td>\n",
       "      <td>...</td>\n",
       "      <td>...</td>\n",
       "      <td>...</td>\n",
       "    </tr>\n",
       "    <tr>\n",
       "      <th>625535</th>\n",
       "      <td>장마라그런가!!! 달지않아요</td>\n",
       "      <td>2</td>\n",
       "      <td>NaN</td>\n",
       "      <td>0</td>\n",
       "    </tr>\n",
       "    <tr>\n",
       "      <th>625536</th>\n",
       "      <td>다이슨 케이스 구매했어요 다이슨 슈퍼소닉 드라이기 케이스 구매했어요가격 괜찮고 배송...</td>\n",
       "      <td>5</td>\n",
       "      <td>NaN</td>\n",
       "      <td>1</td>\n",
       "    </tr>\n",
       "    <tr>\n",
       "      <th>625537</th>\n",
       "      <td>로드샾에서 사는것보다 세배 저렴하네요 ㅜㅜ 자주이용할께요</td>\n",
       "      <td>5</td>\n",
       "      <td>NaN</td>\n",
       "      <td>1</td>\n",
       "    </tr>\n",
       "    <tr>\n",
       "      <th>625538</th>\n",
       "      <td>넘이쁘고 쎄련되보이네요~</td>\n",
       "      <td>5</td>\n",
       "      <td>NaN</td>\n",
       "      <td>1</td>\n",
       "    </tr>\n",
       "    <tr>\n",
       "      <th>625539</th>\n",
       "      <td>아직 사용해보지도않았고 다른 제품을 써본적이없어서 잘 모르겠지만 ㅎㅎ 배송은 빨랐습니다</td>\n",
       "      <td>5</td>\n",
       "      <td>NaN</td>\n",
       "      <td>1</td>\n",
       "    </tr>\n",
       "  </tbody>\n",
       "</table>\n",
       "<p>625539 rows × 4 columns</p>\n",
       "</div>"
      ],
      "text/plain": [
       "                                                  RawText  ReviewScore  \\\n",
       "0                머리결이 푸석해졌어요. 염색시간은 3시간정도 해야하는데 너무 번거로워요.            5   \n",
       "1       천연헤나가 좋다는 건 알지만 흰머리 염색은 너무 번거롭고 오래걸리는 단점이 있네요....            5   \n",
       "2       다크 브라운으로 염색했는데, 발색이 블랙처럼 너무 어둡습니다. 염색 다음날 투명으로...            5   \n",
       "3       염색할때 헤나를 계속 사용했는데요 ㅇㅇㅇ는 처음 사용해보네요. 염색은 잘 되는것 같...            4   \n",
       "4       첫번째 주문입니다. 저렴한 가격도 아닌데, 염색이 잘 되지 않습니다. 사용하기도 불...            5   \n",
       "...                                                   ...          ...   \n",
       "625535                                    장마라그런가!!! 달지않아요            2   \n",
       "625536  다이슨 케이스 구매했어요 다이슨 슈퍼소닉 드라이기 케이스 구매했어요가격 괜찮고 배송...            5   \n",
       "625537                    로드샾에서 사는것보다 세배 저렴하네요 ㅜㅜ 자주이용할께요            5   \n",
       "625538                                      넘이쁘고 쎄련되보이네요~            5   \n",
       "625539   아직 사용해보지도않았고 다른 제품을 써본적이없어서 잘 모르겠지만 ㅎㅎ 배송은 빨랐습니다            5   \n",
       "\n",
       "              ProductName  labels  \n",
       "0       OO 헤나 파우더 100g 1개       0  \n",
       "1       OO 헤나 파우더 100g 1개       0  \n",
       "2       OO 헤나 파우더 100g 1개       0  \n",
       "3       OO 헤나 파우더 100g 1개       0  \n",
       "4       OO 헤나 파우더 100g 1개       0  \n",
       "...                   ...     ...  \n",
       "625535                NaN       0  \n",
       "625536                NaN       1  \n",
       "625537                NaN       1  \n",
       "625538                NaN       1  \n",
       "625539                NaN       1  \n",
       "\n",
       "[625539 rows x 4 columns]"
      ]
     },
     "execution_count": 14,
     "metadata": {},
     "output_type": "execute_result"
    }
   ],
   "source": [
    "df # 총 데이터셋은 625539건"
   ]
  },
  {
   "cell_type": "code",
   "execution_count": 15,
   "id": "95fef498",
   "metadata": {},
   "outputs": [
    {
     "data": {
      "text/plain": [
       "(625030, 2)"
      ]
     },
     "execution_count": 15,
     "metadata": {},
     "output_type": "execute_result"
    }
   ],
   "source": [
    "df['RawText'].nunique(), df['labels'].nunique() # "
   ]
  },
  {
   "cell_type": "code",
   "execution_count": 16,
   "id": "d80e676a",
   "metadata": {},
   "outputs": [
    {
     "name": "stdout",
     "output_type": "stream",
     "text": [
      "총 샘플의 수 : 625030\n"
     ]
    }
   ],
   "source": [
    "# RawText 열에서 중복인 내용이 있다면 중복 제거\n",
    "df.drop_duplicates(subset=['RawText'], inplace=True) # RawText 열에서 중복인 내용이 있다면 중복 제거\n",
    "print('총 샘플의 수 :',len(df))"
   ]
  },
  {
   "cell_type": "code",
   "execution_count": 17,
   "id": "6441c4b1",
   "metadata": {},
   "outputs": [
    {
     "name": "stdout",
     "output_type": "stream",
     "text": [
      "7333395\n"
     ]
    }
   ],
   "source": [
    "# 단어 수 계산 함수\n",
    "def count_words(text):\n",
    "    return text.count(' ') + 1\n",
    "\n",
    "df['Words'] = df['RawText'].apply(count_words)\n",
    "\n",
    "print(df['Words'].sum())"
   ]
  },
  {
   "cell_type": "code",
   "execution_count": 18,
   "id": "387724f4",
   "metadata": {},
   "outputs": [],
   "source": [
    "df.drop(columns=['Words'], inplace=True)"
   ]
  },
  {
   "cell_type": "code",
   "execution_count": 19,
   "id": "3f320d04",
   "metadata": {},
   "outputs": [
    {
     "name": "stdout",
     "output_type": "stream",
     "text": [
      "<class 'pandas.core.frame.DataFrame'>\n",
      "Index: 625030 entries, 0 to 625539\n",
      "Data columns (total 4 columns):\n",
      " #   Column       Non-Null Count   Dtype \n",
      "---  ------       --------------   ----- \n",
      " 0   RawText      625030 non-null  object\n",
      " 1   ReviewScore  625030 non-null  int64 \n",
      " 2   ProductName  425500 non-null  object\n",
      " 3   labels       625030 non-null  int64 \n",
      "dtypes: int64(2), object(2)\n",
      "memory usage: 23.8+ MB\n"
     ]
    }
   ],
   "source": [
    "df.info() # not null"
   ]
  },
  {
   "cell_type": "markdown",
   "id": "bfb83a93",
   "metadata": {},
   "source": [
    "### 레이블의 분포 확인"
   ]
  },
  {
   "cell_type": "code",
   "execution_count": 32,
   "id": "4a089bfb",
   "metadata": {},
   "outputs": [
    {
     "data": {
      "image/png": "[encoded data removed]",
      "text/plain": [
       "<Figure size 640x480 with 1 Axes>"
      ]
     },
     "metadata": {},
     "output_type": "display_data"
    }
   ],
   "source": [
    "value_counts = df['labels'].value_counts()\n",
    "\n",
    "plt.bar(value_counts.index, value_counts.values, color='gray')\n",
    "plt.xticks(value_counts.index, fontsize=24)  # x 축에 0과 1 표시\n",
    "plt.xlabel('Value', fontsize=24)\n",
    "plt.ylabel('Count', fontsize=24)\n",
    "plt.title('Count of Values in DataFrame Column', fontsize=24)\n",
    "\n",
    "plt.tight_layout()  # 레이아웃 조정\n",
    "plt.savefig('Count of Values in DataFrame Column.png', bbox_inches='tight', dpi=300)\n",
    "plt.show();"
   ]
  },
  {
   "cell_type": "markdown",
   "id": "380c743c",
   "metadata": {},
   "source": [
    "### 데이터 정제"
   ]
  },
  {
   "cell_type": "code",
   "execution_count": 34,
   "id": "1415ca62",
   "metadata": {},
   "outputs": [
    {
     "name": "stdout",
     "output_type": "stream",
     "text": [
      "RawText             0\n",
      "ReviewScore         0\n",
      "ProductName    199530\n",
      "labels              0\n",
      "dtype: int64\n"
     ]
    }
   ],
   "source": [
    "# 한글과 공백을 제외하고 모두 제거\n",
    "df['RawText'] = df['RawText'].str.replace(\"[^ㄱ-ㅎㅏ-ㅣ가-힣 ]\",\"\")\n",
    "df['RawText'].replace('', np.nan, inplace=True)\n",
    "print(df.isnull().sum())"
   ]
  },
  {
   "cell_type": "markdown",
   "id": "86d39c81",
   "metadata": {},
   "source": [
    "### 토큰화"
   ]
  },
  {
   "cell_type": "code",
   "execution_count": 35,
   "id": "308de0ce",
   "metadata": {},
   "outputs": [],
   "source": [
    "# Okt 형태소 분석기 실행 시간 측정\n",
    "start_time = time.time()\n",
    "df['tokenized_okt'] = df['RawText'].apply(okt.morphs)\n",
    "okt_time = time.time() - start_time\n",
    "\n",
    "# Kkma 형태소 분석기 실행 시간 측정\n",
    "start_time = time.time()\n",
    "df['tokenized_klt'] = df['RawText'].apply(k.morphs)\n",
    "k_time = time.time() - start_time"
   ]
  },
  {
   "cell_type": "code",
   "execution_count": 36,
   "id": "26e4f60b",
   "metadata": {},
   "outputs": [
    {
     "name": "stdout",
     "output_type": "stream",
     "text": [
      "Okt 형태소 분석기 실행 시간:  2064.4929151535034\n",
      "KLT2000 형태소 분석기 실행 시간:  146.04896903038025\n"
     ]
    }
   ],
   "source": [
    "print(\"Okt 형태소 분석기 실행 시간: \", okt_time)\n",
    "print(\"KLT2000 형태소 분석기 실행 시간: \", k_time)"
   ]
  },
  {
   "cell_type": "code",
   "execution_count": 37,
   "id": "5b327cd8",
   "metadata": {},
   "outputs": [],
   "source": [
    "with open('stopwords.txt', 'r', encoding='utf-8') as f:\n",
    "    stopwords = f.readlines()\n",
    "stopwords = [x.replace('\\n','') for x in stopwords] # stopword 파일의 줄바꿈 문자 제거"
   ]
  },
  {
   "cell_type": "code",
   "execution_count": 38,
   "id": "cc254e37",
   "metadata": {},
   "outputs": [],
   "source": [
    "# 실행 시간이 빨랐던 KLT2000을 활용한 'tokenized' 열에 저장된 리스트에서 불용어를 제거하는 람다 함수를 적용하여 새로운 열 생성\n",
    "# 더 정확한 결과를 내는 okt를 활용하여 토큰화 진행 \n",
    "df['tokenized_okt'] = df['tokenized_okt'].apply(lambda x: [item for item in x if item not in stopwords])"
   ]
  },
  {
   "cell_type": "code",
   "execution_count": 39,
   "id": "f19c6e36",
   "metadata": {},
   "outputs": [
    {
     "data": {
      "text/html": [
       "<div>\n",
       "<style scoped>\n",
       "    .dataframe tbody tr th:only-of-type {\n",
       "        vertical-align: middle;\n",
       "    }\n",
       "\n",
       "    .dataframe tbody tr th {\n",
       "        vertical-align: top;\n",
       "    }\n",
       "\n",
       "    .dataframe thead th {\n",
       "        text-align: right;\n",
       "    }\n",
       "</style>\n",
       "<table border=\"1\" class=\"dataframe\">\n",
       "  <thead>\n",
       "    <tr style=\"text-align: right;\">\n",
       "      <th></th>\n",
       "      <th>RawText</th>\n",
       "      <th>ReviewScore</th>\n",
       "      <th>ProductName</th>\n",
       "      <th>labels</th>\n",
       "      <th>tokenized_okt</th>\n",
       "      <th>tokenized_klt</th>\n",
       "    </tr>\n",
       "  </thead>\n",
       "  <tbody>\n",
       "    <tr>\n",
       "      <th>0</th>\n",
       "      <td>머리결이 푸석해졌어요. 염색시간은 3시간정도 해야하는데 너무 번거로워요.</td>\n",
       "      <td>5</td>\n",
       "      <td>OO 헤나 파우더 100g 1개</td>\n",
       "      <td>0</td>\n",
       "      <td>[머리, 결, 푸석해졌어요, ., 염색, 3시간, 정도, 해야하는데, 너무, 번거로...</td>\n",
       "      <td>[머리결, 푸석하, 염색시간, 3.0, 시간정도, 해야, 너무, 번거롭]</td>\n",
       "    </tr>\n",
       "    <tr>\n",
       "      <th>1</th>\n",
       "      <td>천연헤나가 좋다는 건 알지만 흰머리 염색은 너무 번거롭고 오래걸리는 단점이 있네요....</td>\n",
       "      <td>5</td>\n",
       "      <td>OO 헤나 파우더 100g 1개</td>\n",
       "      <td>0</td>\n",
       "      <td>[천, 연, 헤나, 좋다는, 건, 알, 흰, 머리, 염색, 너무, 번거롭고, 오래,...</td>\n",
       "      <td>[천연헤나, 좋, 것, 알, 흰머리, 염색, 너무, 번거롭, 오래, 단점, 있, 머...</td>\n",
       "    </tr>\n",
       "    <tr>\n",
       "      <th>2</th>\n",
       "      <td>다크 브라운으로 염색했는데, 발색이 블랙처럼 너무 어둡습니다. 염색 다음날 투명으로...</td>\n",
       "      <td>5</td>\n",
       "      <td>OO 헤나 파우더 100g 1개</td>\n",
       "      <td>0</td>\n",
       "      <td>[다크, 브라운, 염색, 했는데, ,, 발색, 블랙, 처럼, 너무, 어둡습니다, ....</td>\n",
       "      <td>[다크, 브라운, 염색, _, 발색, 블랙, 너무, 어둡, 염색, 다음날, 투명, ...</td>\n",
       "    </tr>\n",
       "    <tr>\n",
       "      <th>3</th>\n",
       "      <td>염색할때 헤나를 계속 사용했는데요 ㅇㅇㅇ는 처음 사용해보네요. 염색은 잘 되는것 같...</td>\n",
       "      <td>4</td>\n",
       "      <td>OO 헤나 파우더 100g 1개</td>\n",
       "      <td>0</td>\n",
       "      <td>[염색, 할, 헤나, 계속, 사용, 했는데요, ㅇㅇㅇ, 처음, 사용, 해보네요, ....</td>\n",
       "      <td>[염색할때, 헤나, 계속, 사용, _, _, _, 늘, 처음, 사용하, 염색, 잘,...</td>\n",
       "    </tr>\n",
       "    <tr>\n",
       "      <th>4</th>\n",
       "      <td>첫번째 주문입니다. 저렴한 가격도 아닌데, 염색이 잘 되지 않습니다. 사용하기도 불...</td>\n",
       "      <td>5</td>\n",
       "      <td>OO 헤나 파우더 100g 1개</td>\n",
       "      <td>0</td>\n",
       "      <td>[첫, 번째, 주문, 입니다, ., 저렴한, 가격, 아닌데, ,, 염색, 잘, 되지...</td>\n",
       "      <td>[첫번째, 주문, 저렴, 가격, 아니, _, 염색, 잘, 되, 않, 사용, 불편, ...</td>\n",
       "    </tr>\n",
       "    <tr>\n",
       "      <th>...</th>\n",
       "      <td>...</td>\n",
       "      <td>...</td>\n",
       "      <td>...</td>\n",
       "      <td>...</td>\n",
       "      <td>...</td>\n",
       "      <td>...</td>\n",
       "    </tr>\n",
       "    <tr>\n",
       "      <th>625535</th>\n",
       "      <td>장마라그런가!!! 달지않아요</td>\n",
       "      <td>2</td>\n",
       "      <td>NaN</td>\n",
       "      <td>0</td>\n",
       "      <td>[장마, 라, 런가, !!!, 달, 지, 않아요]</td>\n",
       "      <td>[디자인, 특히, 마음에들어, 토끼, 그림, 넘, 이쁘, 생각, 무게, 무겁, 놀라...</td>\n",
       "    </tr>\n",
       "    <tr>\n",
       "      <th>625536</th>\n",
       "      <td>다이슨 케이스 구매했어요 다이슨 슈퍼소닉 드라이기 케이스 구매했어요가격 괜찮고 배송...</td>\n",
       "      <td>5</td>\n",
       "      <td>NaN</td>\n",
       "      <td>1</td>\n",
       "      <td>[다이슨, 케이스, 구매, 다이슨, 슈퍼소닉, 드라이기, 케이스, 구매, 가격, 괜...</td>\n",
       "      <td>[흡수력, 너무, 약해, 사포, 여러번하, 흡수, 되, 않, 새로, 사려]</td>\n",
       "    </tr>\n",
       "    <tr>\n",
       "      <th>625537</th>\n",
       "      <td>로드샾에서 사는것보다 세배 저렴하네요 ㅜㅜ 자주이용할께요</td>\n",
       "      <td>5</td>\n",
       "      <td>NaN</td>\n",
       "      <td>1</td>\n",
       "      <td>[로드샾, 사는것보다, 세배, 저렴하네요, ㅜㅜ, 자주, 용할께요]</td>\n",
       "      <td>[재구매, _, _, 자주, 애용하고있습니]</td>\n",
       "    </tr>\n",
       "    <tr>\n",
       "      <th>625538</th>\n",
       "      <td>넘이쁘고 쎄련되보이네요~</td>\n",
       "      <td>5</td>\n",
       "      <td>NaN</td>\n",
       "      <td>1</td>\n",
       "      <td>[넘, 이쁘고, 쎄련, 되, 보이네요, ~]</td>\n",
       "      <td>[같은층, 선반지지, 높이, 다르, 덜컹거리, 모서리, 날카롭긴하, 싼맛, 사서, 쓰]</td>\n",
       "    </tr>\n",
       "    <tr>\n",
       "      <th>625539</th>\n",
       "      <td>아직 사용해보지도않았고 다른 제품을 써본적이없어서 잘 모르겠지만 ㅎㅎ 배송은 빨랐습니다</td>\n",
       "      <td>5</td>\n",
       "      <td>NaN</td>\n",
       "      <td>1</td>\n",
       "      <td>[아직, 사용, 해보지도, 않았고, 제품, 써, 본적, 없어서, 잘, 모르겠지만, ...</td>\n",
       "      <td>[괜찮, 비교적, 탄탄하, 다만, 배송비, _, 0.0]</td>\n",
       "    </tr>\n",
       "  </tbody>\n",
       "</table>\n",
       "<p>625030 rows × 6 columns</p>\n",
       "</div>"
      ],
      "text/plain": [
       "                                                  RawText  ReviewScore  \\\n",
       "0                머리결이 푸석해졌어요. 염색시간은 3시간정도 해야하는데 너무 번거로워요.            5   \n",
       "1       천연헤나가 좋다는 건 알지만 흰머리 염색은 너무 번거롭고 오래걸리는 단점이 있네요....            5   \n",
       "2       다크 브라운으로 염색했는데, 발색이 블랙처럼 너무 어둡습니다. 염색 다음날 투명으로...            5   \n",
       "3       염색할때 헤나를 계속 사용했는데요 ㅇㅇㅇ는 처음 사용해보네요. 염색은 잘 되는것 같...            4   \n",
       "4       첫번째 주문입니다. 저렴한 가격도 아닌데, 염색이 잘 되지 않습니다. 사용하기도 불...            5   \n",
       "...                                                   ...          ...   \n",
       "625535                                    장마라그런가!!! 달지않아요            2   \n",
       "625536  다이슨 케이스 구매했어요 다이슨 슈퍼소닉 드라이기 케이스 구매했어요가격 괜찮고 배송...            5   \n",
       "625537                    로드샾에서 사는것보다 세배 저렴하네요 ㅜㅜ 자주이용할께요            5   \n",
       "625538                                      넘이쁘고 쎄련되보이네요~            5   \n",
       "625539   아직 사용해보지도않았고 다른 제품을 써본적이없어서 잘 모르겠지만 ㅎㅎ 배송은 빨랐습니다            5   \n",
       "\n",
       "              ProductName  labels  \\\n",
       "0       OO 헤나 파우더 100g 1개       0   \n",
       "1       OO 헤나 파우더 100g 1개       0   \n",
       "2       OO 헤나 파우더 100g 1개       0   \n",
       "3       OO 헤나 파우더 100g 1개       0   \n",
       "4       OO 헤나 파우더 100g 1개       0   \n",
       "...                   ...     ...   \n",
       "625535                NaN       0   \n",
       "625536                NaN       1   \n",
       "625537                NaN       1   \n",
       "625538                NaN       1   \n",
       "625539                NaN       1   \n",
       "\n",
       "                                            tokenized_okt  \\\n",
       "0       [머리, 결, 푸석해졌어요, ., 염색, 3시간, 정도, 해야하는데, 너무, 번거로...   \n",
       "1       [천, 연, 헤나, 좋다는, 건, 알, 흰, 머리, 염색, 너무, 번거롭고, 오래,...   \n",
       "2       [다크, 브라운, 염색, 했는데, ,, 발색, 블랙, 처럼, 너무, 어둡습니다, ....   \n",
       "3       [염색, 할, 헤나, 계속, 사용, 했는데요, ㅇㅇㅇ, 처음, 사용, 해보네요, ....   \n",
       "4       [첫, 번째, 주문, 입니다, ., 저렴한, 가격, 아닌데, ,, 염색, 잘, 되지...   \n",
       "...                                                   ...   \n",
       "625535                        [장마, 라, 런가, !!!, 달, 지, 않아요]   \n",
       "625536  [다이슨, 케이스, 구매, 다이슨, 슈퍼소닉, 드라이기, 케이스, 구매, 가격, 괜...   \n",
       "625537              [로드샾, 사는것보다, 세배, 저렴하네요, ㅜㅜ, 자주, 용할께요]   \n",
       "625538                           [넘, 이쁘고, 쎄련, 되, 보이네요, ~]   \n",
       "625539  [아직, 사용, 해보지도, 않았고, 제품, 써, 본적, 없어서, 잘, 모르겠지만, ...   \n",
       "\n",
       "                                            tokenized_klt  \n",
       "0                [머리결, 푸석하, 염색시간, 3.0, 시간정도, 해야, 너무, 번거롭]  \n",
       "1       [천연헤나, 좋, 것, 알, 흰머리, 염색, 너무, 번거롭, 오래, 단점, 있, 머...  \n",
       "2       [다크, 브라운, 염색, _, 발색, 블랙, 너무, 어둡, 염색, 다음날, 투명, ...  \n",
       "3       [염색할때, 헤나, 계속, 사용, _, _, _, 늘, 처음, 사용하, 염색, 잘,...  \n",
       "4       [첫번째, 주문, 저렴, 가격, 아니, _, 염색, 잘, 되, 않, 사용, 불편, ...  \n",
       "...                                                   ...  \n",
       "625535  [디자인, 특히, 마음에들어, 토끼, 그림, 넘, 이쁘, 생각, 무게, 무겁, 놀라...  \n",
       "625536          [흡수력, 너무, 약해, 사포, 여러번하, 흡수, 되, 않, 새로, 사려]  \n",
       "625537                           [재구매, _, _, 자주, 애용하고있습니]  \n",
       "625538   [같은층, 선반지지, 높이, 다르, 덜컹거리, 모서리, 날카롭긴하, 싼맛, 사서, 쓰]  \n",
       "625539                    [괜찮, 비교적, 탄탄하, 다만, 배송비, _, 0.0]  \n",
       "\n",
       "[625030 rows x 6 columns]"
      ]
     },
     "execution_count": 39,
     "metadata": {},
     "output_type": "execute_result"
    }
   ],
   "source": [
    "df"
   ]
  },
  {
   "cell_type": "markdown",
   "id": "5f164431",
   "metadata": {},
   "source": [
    "okt의 정확도가 더 높다고 판단되어 klt -> okt로 수정"
   ]
  },
  {
   "cell_type": "code",
   "execution_count": 40,
   "id": "6529c513",
   "metadata": {},
   "outputs": [],
   "source": [
    "# 지정된 피처를 삭제합니다.\n",
    "df.drop(columns='tokenized_klt', inplace=True)\n",
    "\n",
    "# 피처 이름을 변경합니다.\n",
    "df.rename(columns={'tokenized_okt': 'tokenized'}, inplace=True)"
   ]
  },
  {
   "cell_type": "code",
   "execution_count": 41,
   "id": "6e840130",
   "metadata": {},
   "outputs": [],
   "source": [
    "df.to_csv('data/preprocessed_total_data.csv', index=False) # 혹시 몰라서 저장"
   ]
  },
  {
   "cell_type": "code",
   "execution_count": null,
   "id": "cbfc5da4",
   "metadata": {},
   "outputs": [],
   "source": []
  },
  {
   "cell_type": "markdown",
   "id": "44b42f95",
   "metadata": {},
   "source": [
    "---"
   ]
  },
  {
   "cell_type": "markdown",
   "id": "ab8d74d6",
   "metadata": {},
   "source": [
    "### 단어와 길이 분포 확인하기"
   ]
  },
  {
   "cell_type": "code",
   "execution_count": 42,
   "id": "7dc08d75",
   "metadata": {},
   "outputs": [],
   "source": [
    "# 긍정, 부정 각 단어의 빈도수 계산 \n",
    "negative_words = np.hstack(df[df.labels == 0]['tokenized'].values)\n",
    "positive_words = np.hstack(df[df.labels == 1]['tokenized'].values)"
   ]
  },
  {
   "cell_type": "code",
   "execution_count": 43,
   "id": "3f7900af",
   "metadata": {},
   "outputs": [
    {
     "name": "stdout",
     "output_type": "stream",
     "text": [
      "[('.', 307919), ('잘', 60344), ('너무', 56707), ('사용', 53680), ('제품', 49441), ('..', 39835), ('요', 39351), ('안', 36345), ('가격', 35782), ('구매', 34129), ('배송', 32807), ('좋아요', 30705), ('다', 26866), ('좋습니다', 25032), ('한', 24887), ('~', 24804), ('해서', 24783), ('향', 24696), ('입니다', 24267), ('했는데', 22488)]\n"
     ]
    }
   ],
   "source": [
    "# 부정 리뷰에 대해서 빈도수가 높은 상위 20개 단어들을 출력\n",
    "negative_word_count = Counter(negative_words)\n",
    "print(negative_word_count.most_common(20))"
   ]
  },
  {
   "cell_type": "code",
   "execution_count": 44,
   "id": "24b24208",
   "metadata": {},
   "outputs": [
    {
     "name": "stdout",
     "output_type": "stream",
     "text": [
      "[('.', 173337), ('잘', 81591), ('좋아요', 80798), ('\\n', 55184), ('너무', 51562), ('사용', 48780), ('~', 47657), ('배송', 44082), ('구매', 41309), ('요', 34901), ('가격', 31666), ('!', 31202), ('제품', 26063), ('같아요', 25649), ('입니다', 24691), ('다', 22215), ('주문', 21280), (',', 21198), ('한', 20387), ('더', 20146)]\n"
     ]
    }
   ],
   "source": [
    "# 긍정 리뷰에 대해서 빈도수가 높은 상위 20개 단어들을 출력\n",
    "positive_word_count = Counter(positive_words)\n",
    "print(positive_word_count.most_common(20))"
   ]
  },
  {
   "cell_type": "code",
   "execution_count": 60,
   "id": "e5bc93b2",
   "metadata": {},
   "outputs": [
    {
     "name": "stdout",
     "output_type": "stream",
     "text": [
      "긍정 리뷰의 평균 길이 : 13.42019147659394\n",
      "부정 리뷰의 평균 길이 : 20.595534636367805\n"
     ]
    },
    {
     "data": {
      "image/png": "[encoded data removed]",
      "text/plain": [
       "<Figure size 900x400 with 2 Axes>"
      ]
     },
     "metadata": {},
     "output_type": "display_data"
    }
   ],
   "source": [
    "# 두 가지 경우에 대해서 각각 길이 분포를 확인\n",
    "fig,(ax1,ax2) = plt.subplots(1,2,figsize=(9,4))\n",
    "text_len = df[df['labels']==1]['tokenized'].map(lambda x: len(x))\n",
    "ax1.hist(text_len, color='pink')\n",
    "ax1.set_title('Positive Reviews', fontsize=17)\n",
    "ax1.set_xlabel('length of samples', fontsize=17)\n",
    "ax1.set_ylabel('number of samples', fontsize=17)\n",
    "print('긍정 리뷰의 평균 길이 :', np.mean(text_len))\n",
    "\n",
    "text_len = df[df['labels']==0]['tokenized'].map(lambda x: len(x))\n",
    "ax2.hist(text_len, color='gray')\n",
    "ax2.set_title('Negative Reviews', fontsize=17)\n",
    "fig.suptitle('Words in texts', fontsize=17)\n",
    "ax2.set_xlabel('length of samples', fontsize=17)\n",
    "ax2.set_ylabel('number of samples', fontsize=17)\n",
    "print('부정 리뷰의 평균 길이 :', np.mean(text_len))\n",
    "\n",
    "plt.tight_layout()  # 레이아웃 조정\n",
    "plt.savefig('Words in texts.png', bbox_inches='tight', dpi=300)\n",
    "plt.show();"
   ]
  },
  {
   "cell_type": "markdown",
   "id": "4df0fa5c",
   "metadata": {},
   "source": [
    "긍정 리뷰보다는 부정 리뷰가 좀 더 길게 작성된 경향이 있는 것 같다."
   ]
  },
  {
   "cell_type": "markdown",
   "id": "c5fd87ef",
   "metadata": {},
   "source": [
    "### 정수 인코딩"
   ]
  },
  {
   "cell_type": "code",
   "execution_count": 46,
   "id": "63fced2e",
   "metadata": {},
   "outputs": [
    {
     "name": "stdout",
     "output_type": "stream",
     "text": [
      "훈련용 리뷰의 개수 : 468772\n",
      "테스트용 리뷰의 개수 : 156258\n"
     ]
    }
   ],
   "source": [
    "# 훈련 데이터와 테스트 데이터 분리하기\n",
    "train_data, test_data = train_test_split(df, test_size = 0.25, random_state = 42)\n",
    "print('훈련용 리뷰의 개수 :', len(train_data))\n",
    "print('테스트용 리뷰의 개수 :', len(test_data))"
   ]
  },
  {
   "cell_type": "code",
   "execution_count": 47,
   "id": "9211d091",
   "metadata": {},
   "outputs": [],
   "source": [
    "X_train = train_data['tokenized'].values\n",
    "y_train = train_data['labels'].values\n",
    "X_test= test_data['tokenized'].values\n",
    "y_test = test_data['labels'].values"
   ]
  },
  {
   "cell_type": "code",
   "execution_count": 48,
   "id": "fe631be4",
   "metadata": {},
   "outputs": [],
   "source": [
    "tokenizer = Tokenizer()\n",
    "tokenizer.fit_on_texts(X_train)"
   ]
  },
  {
   "cell_type": "code",
   "execution_count": 49,
   "id": "ca0cb6a3",
   "metadata": {},
   "outputs": [
    {
     "name": "stdout",
     "output_type": "stream",
     "text": [
      "단어 집합(vocabulary)의 크기 : 168268\n",
      "등장 빈도가 1번 이하인 희귀 단어의 수: 89721\n",
      "단어 집합에서 희귀 단어의 비율: 53.320298571326695\n",
      "전체 등장 빈도에서 희귀 단어 등장 빈도 비율: 1.1653349196535725\n"
     ]
    }
   ],
   "source": [
    "threshold = 2\n",
    "total_cnt = len(tokenizer.word_index) # 단어의 수\n",
    "rare_cnt = 0 # 등장 빈도수가 threshold보다 작은 단어의 개수를 카운트\n",
    "total_freq = 0 # 훈련 데이터의 전체 단어 빈도수 총 합\n",
    "rare_freq = 0 # 등장 빈도수가 threshold보다 작은 단어의 등장 빈도수의 총 합\n",
    "\n",
    "# 단어와 빈도수의 쌍(pair)을 key와 value로 받는다.\n",
    "for key, value in tokenizer.word_counts.items():\n",
    "    total_freq = total_freq + value\n",
    "\n",
    "    # 단어의 등장 빈도수가 threshold보다 작으면\n",
    "    if(value < threshold):\n",
    "        rare_cnt = rare_cnt + 1\n",
    "        rare_freq = rare_freq + value\n",
    "\n",
    "print('단어 집합(vocabulary)의 크기 :',total_cnt)\n",
    "print('등장 빈도가 %s번 이하인 희귀 단어의 수: %s'%(threshold - 1, rare_cnt))\n",
    "print(\"단어 집합에서 희귀 단어의 비율:\", (rare_cnt / total_cnt)*100)\n",
    "print(\"전체 등장 빈도에서 희귀 단어 등장 빈도 비율:\", (rare_freq / total_freq)*100)\n"
   ]
  },
  {
   "cell_type": "code",
   "execution_count": 50,
   "id": "a55c8d8e",
   "metadata": {},
   "outputs": [
    {
     "name": "stdout",
     "output_type": "stream",
     "text": [
      "단어 집합의 크기 : 78549\n"
     ]
    }
   ],
   "source": [
    "# 전체 단어 개수 중 빈도수 2이하인 단어 개수는 제거.\n",
    "# 0번 패딩 토큰과 1번 OOV 토큰을 고려하여 +2\n",
    "vocab_size = total_cnt - rare_cnt + 2\n",
    "print('단어 집합의 크기 :',vocab_size)\n"
   ]
  },
  {
   "cell_type": "code",
   "execution_count": 51,
   "id": "1b245700",
   "metadata": {},
   "outputs": [],
   "source": [
    "tokenizer = Tokenizer(vocab_size, oov_token = 'OOV') \n",
    "tokenizer.fit_on_texts(X_train)\n",
    "X_train = tokenizer.texts_to_sequences(X_train)\n",
    "X_test = tokenizer.texts_to_sequences(X_test)\n"
   ]
  },
  {
   "cell_type": "code",
   "execution_count": 52,
   "id": "d008e891",
   "metadata": {},
   "outputs": [
    {
     "name": "stdout",
     "output_type": "stream",
     "text": [
      "[[26, 3306, 2, 630, 1004], [3092, 37, 3941, 18, 71, 1156, 539, 6981, 1679, 9, 2, 280, 41, 19, 904, 1668, 8, 33, 290, 1759, 2, 26, 272, 357, 27, 2, 97, 25, 6, 2382, 37, 24, 2], [124, 10840, 881, 4061, 870, 635, 2662, 6, 8634, 17]]\n"
     ]
    }
   ],
   "source": [
    "print(X_train[:3])"
   ]
  },
  {
   "cell_type": "code",
   "execution_count": 53,
   "id": "5e0c5aec",
   "metadata": {},
   "outputs": [
    {
     "name": "stdout",
     "output_type": "stream",
     "text": [
      "[[96, 2904, 5, 50, 3397], [1], [481, 56, 2208, 37, 68, 69, 170, 319, 10705, 109, 2196, 265, 5214, 140, 39, 240, 47, 70]]\n"
     ]
    }
   ],
   "source": [
    "print(X_test[:3])"
   ]
  },
  {
   "cell_type": "markdown",
   "id": "1b4d1e9a",
   "metadata": {},
   "source": [
    "### 패딩"
   ]
  },
  {
   "cell_type": "code",
   "execution_count": 61,
   "id": "8d37b842",
   "metadata": {},
   "outputs": [
    {
     "name": "stdout",
     "output_type": "stream",
     "text": [
      "리뷰의 최대 길이: 1154\n",
      "리뷰의 평균 길이: 16.42410382872697\n"
     ]
    },
    {
     "data": {
      "image/png": "[encoded data removed]",
      "text/plain": [
       "<Figure size 500x300 with 1 Axes>"
      ]
     },
     "metadata": {},
     "output_type": "display_data"
    }
   ],
   "source": [
    "# 전체 데이터에서 가장 길이가 긴 리뷰와 전체 데이터의 길이 분포\n",
    "max_length = max(len(review) for review in X_train)\n",
    "print('리뷰의 최대 길이:', max_length)\n",
    "print('리뷰의 평균 길이:', sum(map(len, X_train))/len(X_train))\n",
    "\n",
    "plt.figure(figsize=(5, 3))  # 그래프 크기 조정\n",
    "plt.hist([len(review) for review in X_train], bins=50, color='#FD6F22')\n",
    "plt.xlabel('length of samples', fontsize = 15)\n",
    "plt.ylabel('number of samples', fontsize = 15)\n",
    "plt.title('Distribution of sample lengths', fontsize = 15)\n",
    "plt.xlim(0, max_length)  # 가로 축 범위 조정\n",
    "\n",
    "plt.tight_layout()  # 레이아웃 조정\n",
    "plt.savefig('Distribution of sample lengths.png', bbox_inches='tight', dpi=300)\n",
    "plt.show();"
   ]
  },
  {
   "cell_type": "code",
   "execution_count": 57,
   "id": "751b7ece",
   "metadata": {
    "scrolled": false
   },
   "outputs": [
    {
     "name": "stdout",
     "output_type": "stream",
     "text": [
      "리뷰의 최대 길이 (제거 후): 518\n",
      "리뷰의 평균 길이 (제거 후): 16.416253703865674\n"
     ]
    },
    {
     "data": {
      "image/png": "[encoded data removed]",
      "text/plain": [
       "<Figure size 500x300 with 1 Axes>"
      ]
     },
     "metadata": {},
     "output_type": "display_data"
    }
   ],
   "source": [
    "# 가장 긴 리뷰의 길이를 두 번 찾습니다.\n",
    "max_lengths = sorted([len(review) for review in X_train], reverse=True)[:5]\n",
    "\n",
    "# 최대값을 제외한 리뷰 길이들로 이루어진 리스트를 만듭니다.\n",
    "filtered_lengths = [len(review) for review in X_train if len(review) not in max_lengths]\n",
    "\n",
    "print('리뷰의 최대 길이 (제거 후):', max(filtered_lengths))\n",
    "print('리뷰의 평균 길이 (제거 후):', sum(filtered_lengths) / len(filtered_lengths))\n",
    "\n",
    "plt.figure(figsize=(5, 3))\n",
    "plt.hist(filtered_lengths, bins=50, color='#FD6F22')\n",
    "plt.xlabel('length of samples', fontsize = 15)\n",
    "plt.ylabel('number of samples', fontsize = 15)\n",
    "plt.title('Distribution of sample lengths (excluding top 5)', fontsize = 15)\n",
    "plt.xlim(0, max(filtered_lengths))\n",
    "plt.tight_layout()  # 레이아웃 조정\n",
    "plt.savefig('Negative Reviews.png', bbox_inches='tight', dpi=300)\n",
    "plt.show();"
   ]
  },
  {
   "cell_type": "markdown",
   "id": "754fc762",
   "metadata": {},
   "source": [
    "전체적으로는 100이하의 길이를 가지는 것으로 보인다."
   ]
  },
  {
   "cell_type": "code",
   "execution_count": 365,
   "id": "394d5e63",
   "metadata": {},
   "outputs": [],
   "source": [
    "def below_threshold_len(max_len, nested_list):\n",
    "    count = 0\n",
    "    for sentence in nested_list:\n",
    "        if(len(sentence) <= max_len):\n",
    "            count = count + 1\n",
    "    print('전체 샘플 중 길이가 %s 이하인 샘플의 비율: %s'%(max_len, (count / len(nested_list))*100))\n"
   ]
  },
  {
   "cell_type": "code",
   "execution_count": 366,
   "id": "25b4722f",
   "metadata": {},
   "outputs": [
    {
     "name": "stdout",
     "output_type": "stream",
     "text": [
      "전체 샘플 중 길이가 350 이하인 샘플의 비율: 99.99765344346505\n"
     ]
    }
   ],
   "source": [
    "# 몇 개의 샘플들을 온전히 보전할 수 있는지 확인\n",
    "max_len = 350\n",
    "below_threshold_len(max_len, X_train)"
   ]
  },
  {
   "cell_type": "markdown",
   "id": "f0f9b0b4",
   "metadata": {},
   "source": [
    "훈련용 리뷰의 99.99%가 350이하의 길이를 가진다. 훈련용 리뷰를 길이 350으로 패딩한다."
   ]
  },
  {
   "cell_type": "code",
   "execution_count": 367,
   "id": "1955c916",
   "metadata": {},
   "outputs": [],
   "source": [
    "X_train = pad_sequences(X_train, maxlen=max_len)\n",
    "X_test = pad_sequences(X_test, maxlen=max_len)"
   ]
  },
  {
   "cell_type": "code",
   "execution_count": null,
   "id": "fe008468",
   "metadata": {},
   "outputs": [],
   "source": []
  }
 ],
 "metadata": {
  "kernelspec": {
   "display_name": "virtual_envs",
   "language": "python",
   "name": "virtual_envs"
  },
  "language_info": {
   "codemirror_mode": {
    "name": "ipython",
    "version": 3
   },
   "file_extension": ".py",
   "mimetype": "text/x-python",
   "name": "python",
   "nbconvert_exporter": "python",
   "pygments_lexer": "ipython3",
   "version": "3.11.5"
  }
 },
 "nbformat": 4,
 "nbformat_minor": 5
}
