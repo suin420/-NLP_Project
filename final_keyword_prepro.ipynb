{
 "cells": [
  {
   "attachments": {},
   "cell_type": "markdown",
   "id": "22ed71f2",
   "metadata": {},
   "source": [
    "참고: https://lwoongh38.github.io/bert-sentiment-keyword  \n",
    "https://github.com/lwoongh38/project_cs1/blob/main/keyword_extractor_bert.ipynb"
   ]
  },
  {
   "cell_type": "code",
   "execution_count": 33,
   "id": "0bc65de3",
   "metadata": {},
   "outputs": [],
   "source": [
    "import pandas as pd\n",
    "#import seaborn as sns\n",
    "import numpy as np\n",
    "# import pykospacing\n",
    "# spacer = pykospacing.Spacing()\n",
    "\n",
    "import re\n",
    "#import matplotlib.pyplot as plt\n",
    "#%matplotlib inline\n",
    "from collections import Counter\n",
    "import time\n",
    "#from sklearn.model_selection import train_test_split\n",
    "#import networkx as nx\n",
    "#import matplotlib.pyplot as plt\n",
    "from pykospacing import Spacing"
   ]
  },
  {
   "attachments": {},
   "cell_type": "markdown",
   "id": "f02bd1bd",
   "metadata": {},
   "source": [
    "### 총 데이터 합치기\n",
    "키워드 추출에서 깃 데이터는 제외 (상품명이 없기 때문에)"
   ]
  },
  {
   "cell_type": "code",
   "execution_count": 34,
   "id": "eea308c4",
   "metadata": {},
   "outputs": [],
   "source": [
    "df_trn = pd.read_csv('data/train.csv')\n",
    "df_tst = pd.read_csv('data/test.csv')\n",
    "df_craw = pd.read_csv('data/Crawling_final.csv')"
   ]
  },
  {
   "cell_type": "code",
   "execution_count": 35,
   "id": "a55ea7a9",
   "metadata": {},
   "outputs": [],
   "source": [
    "df_hub = pd.concat([df_trn, df_tst], ignore_index=True)"
   ]
  },
  {
   "attachments": {},
   "cell_type": "markdown",
   "id": "d8a7de6e",
   "metadata": {},
   "source": [
    "### 클래스 분류"
   ]
  },
  {
   "cell_type": "code",
   "execution_count": 36,
   "id": "78000009",
   "metadata": {},
   "outputs": [],
   "source": [
    "# 1~100점으로 분포된 평점에서 1~50은 0(부정), 51~100은 1(긍정)\n",
    "df_hub['labels'] = df_hub['ReviewScore'].apply(lambda x: 0 if 0 <= x <= 50 else 1)\n",
    "\n",
    "# 1~5점으로 분포된 평점에서 1~2은 0(부정), 4~5은 1(긍정)\n",
    "df_craw['labels'] = df_craw['ReviewScore'].apply(lambda x: 0 if 1 <= x <= 2 else 1)"
   ]
  },
  {
   "cell_type": "code",
   "execution_count": 37,
   "id": "5dfc3bcf",
   "metadata": {},
   "outputs": [],
   "source": [
    "# 데이터프레임을 리스트에 담기\n",
    "dfs = [df_hub, df_craw]\n",
    "\n",
    "# 데이터프레임 위아래로 합치기\n",
    "df = pd.concat(dfs, ignore_index=True)"
   ]
  },
  {
   "cell_type": "code",
   "execution_count": 38,
   "id": "90c99bcd",
   "metadata": {},
   "outputs": [
    {
     "name": "stdout",
     "output_type": "stream",
     "text": [
      "총 샘플의 수 : 512889\n"
     ]
    }
   ],
   "source": [
    "# RawText 열에서 중복인 내용이 있다면 중복 제거\n",
    "df.drop_duplicates(subset=['RawText'], inplace=True) # RawText 열에서 중복인 내용이 있다면 중복 제거\n",
    "df.drop(columns=['Index', 'Unnamed: 0'], inplace=True)\n",
    "df.dropna(subset=['RawText', 'ProductName'], inplace=True)\n",
    "df.reset_index(drop=True, inplace=True) # 인덱스 재설정\n",
    "print('총 샘플의 수 :',len(df))"
   ]
  },
  {
   "cell_type": "code",
   "execution_count": 39,
   "id": "b8940afe",
   "metadata": {
    "scrolled": false
   },
   "outputs": [
    {
     "data": {
      "text/html": [
       "<div>\n",
       "<style scoped>\n",
       "    .dataframe tbody tr th:only-of-type {\n",
       "        vertical-align: middle;\n",
       "    }\n",
       "\n",
       "    .dataframe tbody tr th {\n",
       "        vertical-align: top;\n",
       "    }\n",
       "\n",
       "    .dataframe thead th {\n",
       "        text-align: right;\n",
       "    }\n",
       "</style>\n",
       "<table border=\"1\" class=\"dataframe\">\n",
       "  <thead>\n",
       "    <tr style=\"text-align: right;\">\n",
       "      <th></th>\n",
       "      <th>RawText</th>\n",
       "      <th>ReviewScore</th>\n",
       "      <th>ProductName</th>\n",
       "      <th>labels</th>\n",
       "    </tr>\n",
       "  </thead>\n",
       "  <tbody>\n",
       "    <tr>\n",
       "      <th>0</th>\n",
       "      <td>머리결이 푸석해졌어요. 염색시간은 3시간정도 해야하는데 너무 번거로워요.</td>\n",
       "      <td>5</td>\n",
       "      <td>OO 헤나 파우더 100g 1개</td>\n",
       "      <td>0</td>\n",
       "    </tr>\n",
       "    <tr>\n",
       "      <th>1</th>\n",
       "      <td>천연헤나가 좋다는 건 알지만 흰머리 염색은 너무 번거롭고 오래걸리는 단점이 있네요....</td>\n",
       "      <td>5</td>\n",
       "      <td>OO 헤나 파우더 100g 1개</td>\n",
       "      <td>0</td>\n",
       "    </tr>\n",
       "    <tr>\n",
       "      <th>2</th>\n",
       "      <td>다크 브라운으로 염색했는데, 발색이 블랙처럼 너무 어둡습니다. 염색 다음날 투명으로...</td>\n",
       "      <td>5</td>\n",
       "      <td>OO 헤나 파우더 100g 1개</td>\n",
       "      <td>0</td>\n",
       "    </tr>\n",
       "    <tr>\n",
       "      <th>3</th>\n",
       "      <td>염색할때 헤나를 계속 사용했는데요 ㅇㅇㅇ는 처음 사용해보네요. 염색은 잘 되는것 같...</td>\n",
       "      <td>4</td>\n",
       "      <td>OO 헤나 파우더 100g 1개</td>\n",
       "      <td>0</td>\n",
       "    </tr>\n",
       "    <tr>\n",
       "      <th>4</th>\n",
       "      <td>첫번째 주문입니다. 저렴한 가격도 아닌데, 염색이 잘 되지 않습니다. 사용하기도 불...</td>\n",
       "      <td>5</td>\n",
       "      <td>OO 헤나 파우더 100g 1개</td>\n",
       "      <td>0</td>\n",
       "    </tr>\n",
       "    <tr>\n",
       "      <th>...</th>\n",
       "      <td>...</td>\n",
       "      <td>...</td>\n",
       "      <td>...</td>\n",
       "      <td>...</td>\n",
       "    </tr>\n",
       "    <tr>\n",
       "      <th>512884</th>\n",
       "      <td>매번 주문해요!! 좋아요~!</td>\n",
       "      <td>5</td>\n",
       "      <td>만년도장 아크릴4푼검정</td>\n",
       "      <td>1</td>\n",
       "    </tr>\n",
       "    <tr>\n",
       "      <th>512885</th>\n",
       "      <td>좋아요 매번 주문해서 사용중~~~~~</td>\n",
       "      <td>5</td>\n",
       "      <td>만년도장 아크릴4푼검정</td>\n",
       "      <td>1</td>\n",
       "    </tr>\n",
       "    <tr>\n",
       "      <th>512886</th>\n",
       "      <td>ㅋㅋ 주문을 잘못했어요 한글 두개로 ㅋㅋ 하나는 한자로 해야되는데 졸지에 명인됨 ㅋㅋ</td>\n",
       "      <td>5</td>\n",
       "      <td>만년도장 아크릴4푼검정</td>\n",
       "      <td>1</td>\n",
       "    </tr>\n",
       "    <tr>\n",
       "      <th>512887</th>\n",
       "      <td>도장찍을때마다 인주가 필요없어 넘 편해요</td>\n",
       "      <td>5</td>\n",
       "      <td>만년도장 아크릴4푼검정</td>\n",
       "      <td>1</td>\n",
       "    </tr>\n",
       "    <tr>\n",
       "      <th>512888</th>\n",
       "      <td>배송도 빠르고 모양도 좋아요</td>\n",
       "      <td>5</td>\n",
       "      <td>만년도장 아크릴4푼검정</td>\n",
       "      <td>1</td>\n",
       "    </tr>\n",
       "  </tbody>\n",
       "</table>\n",
       "<p>512889 rows × 4 columns</p>\n",
       "</div>"
      ],
      "text/plain": [
       "                                                  RawText  ReviewScore  \\\n",
       "0                머리결이 푸석해졌어요. 염색시간은 3시간정도 해야하는데 너무 번거로워요.            5   \n",
       "1       천연헤나가 좋다는 건 알지만 흰머리 염색은 너무 번거롭고 오래걸리는 단점이 있네요....            5   \n",
       "2       다크 브라운으로 염색했는데, 발색이 블랙처럼 너무 어둡습니다. 염색 다음날 투명으로...            5   \n",
       "3       염색할때 헤나를 계속 사용했는데요 ㅇㅇㅇ는 처음 사용해보네요. 염색은 잘 되는것 같...            4   \n",
       "4       첫번째 주문입니다. 저렴한 가격도 아닌데, 염색이 잘 되지 않습니다. 사용하기도 불...            5   \n",
       "...                                                   ...          ...   \n",
       "512884                                    매번 주문해요!! 좋아요~!            5   \n",
       "512885                               좋아요 매번 주문해서 사용중~~~~~            5   \n",
       "512886    ㅋㅋ 주문을 잘못했어요 한글 두개로 ㅋㅋ 하나는 한자로 해야되는데 졸지에 명인됨 ㅋㅋ            5   \n",
       "512887                             도장찍을때마다 인주가 필요없어 넘 편해요            5   \n",
       "512888                                    배송도 빠르고 모양도 좋아요            5   \n",
       "\n",
       "              ProductName  labels  \n",
       "0       OO 헤나 파우더 100g 1개       0  \n",
       "1       OO 헤나 파우더 100g 1개       0  \n",
       "2       OO 헤나 파우더 100g 1개       0  \n",
       "3       OO 헤나 파우더 100g 1개       0  \n",
       "4       OO 헤나 파우더 100g 1개       0  \n",
       "...                   ...     ...  \n",
       "512884       만년도장 아크릴4푼검정       1  \n",
       "512885       만년도장 아크릴4푼검정       1  \n",
       "512886       만년도장 아크릴4푼검정       1  \n",
       "512887       만년도장 아크릴4푼검정       1  \n",
       "512888       만년도장 아크릴4푼검정       1  \n",
       "\n",
       "[512889 rows x 4 columns]"
      ]
     },
     "execution_count": 39,
     "metadata": {},
     "output_type": "execute_result"
    }
   ],
   "source": [
    "df"
   ]
  },
  {
   "attachments": {},
   "cell_type": "markdown",
   "id": "c2920a5b",
   "metadata": {},
   "source": [
    "### 정제"
   ]
  },
  {
   "cell_type": "code",
   "execution_count": 40,
   "id": "69b906b4",
   "metadata": {},
   "outputs": [
    {
     "data": {
      "text/plain": [
       "10134"
      ]
     },
     "execution_count": 40,
     "metadata": {},
     "output_type": "execute_result"
    }
   ],
   "source": [
    "df.ProductName.nunique()"
   ]
  },
  {
   "cell_type": "code",
   "execution_count": 41,
   "id": "46dd3cf6",
   "metadata": {},
   "outputs": [],
   "source": [
    "df = df.groupby(['ProductName', 'labels'])['RawText'].apply(lambda x: ' '.join(x)).reset_index()\n",
    "df = df.sort_values(by='ProductName', ascending=True)"
   ]
  },
  {
   "cell_type": "code",
   "execution_count": 42,
   "id": "3f878e0a",
   "metadata": {},
   "outputs": [
    {
     "data": {
      "text/html": [
       "<div>\n",
       "<style scoped>\n",
       "    .dataframe tbody tr th:only-of-type {\n",
       "        vertical-align: middle;\n",
       "    }\n",
       "\n",
       "    .dataframe tbody tr th {\n",
       "        vertical-align: top;\n",
       "    }\n",
       "\n",
       "    .dataframe thead th {\n",
       "        text-align: right;\n",
       "    }\n",
       "</style>\n",
       "<table border=\"1\" class=\"dataframe\">\n",
       "  <thead>\n",
       "    <tr style=\"text-align: right;\">\n",
       "      <th></th>\n",
       "      <th>ProductName</th>\n",
       "      <th>labels</th>\n",
       "      <th>RawText</th>\n",
       "    </tr>\n",
       "  </thead>\n",
       "  <tbody>\n",
       "    <tr>\n",
       "      <th>0</th>\n",
       "      <td>LG 울트라HD TV 75형(189cm) 75UN7850KNA+LG사운드바</td>\n",
       "      <td>1</td>\n",
       "      <td>화면이 커서 너무 좋아요 기사분도 친절하시고 배송 날짜보다 빨리 배송되어 잘 보고 ...</td>\n",
       "    </tr>\n",
       "    <tr>\n",
       "      <th>1</th>\n",
       "      <td>[22년 신모델]  LG그램 15Z95P-GA5LK (i5-1155G7/16GB/...</td>\n",
       "      <td>1</td>\n",
       "      <td>입학축하선물로 노트북 뭘 살지 이것저것 다 찾아보다가, 결국 OOOO 22형으로 주...</td>\n",
       "    </tr>\n",
       "    <tr>\n",
       "      <th>2</th>\n",
       "      <td>무선키보드 마우스 세트 저소음 옵티컬 4버튼 해킹방지 ONG ENTUS OGN-W...</td>\n",
       "      <td>1</td>\n",
       "      <td>배송은 바르고 좋은데  저소음이라고 샀는데 기대이상이네요 그런데 마우스가 좀 빡빡한...</td>\n",
       "    </tr>\n",
       "    <tr>\n",
       "      <th>3</th>\n",
       "      <td>(1+1 TJ 태진 블루투스 마이크 / 무선 노래방 마이크</td>\n",
       "      <td>1</td>\n",
       "      <td>코로나로 노래방을 못가는 아이들이 어디서나 노래부를 수 있어 완전 대~~~박! 시험...</td>\n",
       "    </tr>\n",
       "    <tr>\n",
       "      <th>4</th>\n",
       "      <td>(1+1) OO 휴대용 마스크 살균건조기</td>\n",
       "      <td>1</td>\n",
       "      <td>오늘받았는데 어머나 너무좋아요  마스크바로넣어 살균 불깜박거리고 너무좋은데요 마스크...</td>\n",
       "    </tr>\n",
       "    <tr>\n",
       "      <th>...</th>\n",
       "      <td>...</td>\n",
       "      <td>...</td>\n",
       "      <td>...</td>\n",
       "    </tr>\n",
       "    <tr>\n",
       "      <th>12266</th>\n",
       "      <td>휴대용 다용도 옷걸이 건조기 제습기 HG-660DY</td>\n",
       "      <td>1</td>\n",
       "      <td>간편한 옷걸이 건조기, 휴대하기도 좋고 찜찜한 옷 건조하기도 좋아 만족해요</td>\n",
       "    </tr>\n",
       "    <tr>\n",
       "      <th>12267</th>\n",
       "      <td>휴대폰 태블릿 거치대 자바라 130cm</td>\n",
       "      <td>1</td>\n",
       "      <td>정면 카메라 말고 카메라가  하나 더 필요해서 핸드폰 거치대를 이용해 보려고 주문했...</td>\n",
       "    </tr>\n",
       "    <tr>\n",
       "      <th>12268</th>\n",
       "      <td>휴먼케어 감면 하이패스 시거잭전원타입 HUMC-200</td>\n",
       "      <td>0</td>\n",
       "      <td>장애인 혜택을 못받아서 좀 아쉽지만 가성비 갑인 제품으로 추천해요 다만 지문인식 기...</td>\n",
       "    </tr>\n",
       "    <tr>\n",
       "      <th>12269</th>\n",
       "      <td>휴플러스 어깨안마기 HPR-190</td>\n",
       "      <td>1</td>\n",
       "      <td>가격이 저렴해서 구매했는데 전에 쓰던거랑 볼의 크기가 좀 작네요 그냥저냥 쓸만해요....</td>\n",
       "    </tr>\n",
       "    <tr>\n",
       "      <th>12270</th>\n",
       "      <td>휴플러스 유/무선 어깨 마사지기 코드제로-1600GOLD</td>\n",
       "      <td>1</td>\n",
       "      <td>안마압이 세긴세네요~목부분에할려니 넘 커네요. 어깨부분은 시원은해요 팔에거니 어깨부...</td>\n",
       "    </tr>\n",
       "  </tbody>\n",
       "</table>\n",
       "<p>12271 rows × 3 columns</p>\n",
       "</div>"
      ],
      "text/plain": [
       "                                             ProductName  labels  \\\n",
       "0              LG 울트라HD TV 75형(189cm) 75UN7850KNA+LG사운드바       1   \n",
       "1       [22년 신모델]  LG그램 15Z95P-GA5LK (i5-1155G7/16GB/...       1   \n",
       "2       무선키보드 마우스 세트 저소음 옵티컬 4버튼 해킹방지 ONG ENTUS OGN-W...       1   \n",
       "3                       (1+1 TJ 태진 블루투스 마이크 / 무선 노래방 마이크       1   \n",
       "4                                 (1+1) OO 휴대용 마스크 살균건조기       1   \n",
       "...                                                  ...     ...   \n",
       "12266                       휴대용 다용도 옷걸이 건조기 제습기 HG-660DY       1   \n",
       "12267                              휴대폰 태블릿 거치대 자바라 130cm       1   \n",
       "12268                      휴먼케어 감면 하이패스 시거잭전원타입 HUMC-200       0   \n",
       "12269                                 휴플러스 어깨안마기 HPR-190       1   \n",
       "12270                    휴플러스 유/무선 어깨 마사지기 코드제로-1600GOLD       1   \n",
       "\n",
       "                                                 RawText  \n",
       "0      화면이 커서 너무 좋아요 기사분도 친절하시고 배송 날짜보다 빨리 배송되어 잘 보고 ...  \n",
       "1      입학축하선물로 노트북 뭘 살지 이것저것 다 찾아보다가, 결국 OOOO 22형으로 주...  \n",
       "2      배송은 바르고 좋은데  저소음이라고 샀는데 기대이상이네요 그런데 마우스가 좀 빡빡한...  \n",
       "3      코로나로 노래방을 못가는 아이들이 어디서나 노래부를 수 있어 완전 대~~~박! 시험...  \n",
       "4      오늘받았는데 어머나 너무좋아요  마스크바로넣어 살균 불깜박거리고 너무좋은데요 마스크...  \n",
       "...                                                  ...  \n",
       "12266          간편한 옷걸이 건조기, 휴대하기도 좋고 찜찜한 옷 건조하기도 좋아 만족해요  \n",
       "12267  정면 카메라 말고 카메라가  하나 더 필요해서 핸드폰 거치대를 이용해 보려고 주문했...  \n",
       "12268  장애인 혜택을 못받아서 좀 아쉽지만 가성비 갑인 제품으로 추천해요 다만 지문인식 기...  \n",
       "12269  가격이 저렴해서 구매했는데 전에 쓰던거랑 볼의 크기가 좀 작네요 그냥저냥 쓸만해요....  \n",
       "12270  안마압이 세긴세네요~목부분에할려니 넘 커네요. 어깨부분은 시원은해요 팔에거니 어깨부...  \n",
       "\n",
       "[12271 rows x 3 columns]"
      ]
     },
     "execution_count": 42,
     "metadata": {},
     "output_type": "execute_result"
    }
   ],
   "source": [
    "df"
   ]
  },
  {
   "cell_type": "code",
   "execution_count": 43,
   "id": "9c44fe10",
   "metadata": {},
   "outputs": [
    {
     "data": {
      "text/html": [
       "<div>\n",
       "<style scoped>\n",
       "    .dataframe tbody tr th:only-of-type {\n",
       "        vertical-align: middle;\n",
       "    }\n",
       "\n",
       "    .dataframe tbody tr th {\n",
       "        vertical-align: top;\n",
       "    }\n",
       "\n",
       "    .dataframe thead th {\n",
       "        text-align: right;\n",
       "    }\n",
       "</style>\n",
       "<table border=\"1\" class=\"dataframe\">\n",
       "  <thead>\n",
       "    <tr style=\"text-align: right;\">\n",
       "      <th></th>\n",
       "      <th>ProductName</th>\n",
       "      <th>labels</th>\n",
       "      <th>RawText</th>\n",
       "    </tr>\n",
       "  </thead>\n",
       "  <tbody>\n",
       "    <tr>\n",
       "      <th>11590</th>\n",
       "      <td>오* 무드1000 미니 가습기</td>\n",
       "      <td>0</td>\n",
       "      <td>잘사용중이였는데 갑자기 가습방향이 아래로만 내려가서 ... 이상하네요?\\n수건깔아도...</td>\n",
       "    </tr>\n",
       "    <tr>\n",
       "      <th>11591</th>\n",
       "      <td>오* 무드1000 미니 가습기</td>\n",
       "      <td>1</td>\n",
       "      <td>소리는 조금 나요.\\n물은 750ml정도 넣어야 잘나와요..\\n다른건 괜찮은거 같아...</td>\n",
       "    </tr>\n",
       "  </tbody>\n",
       "</table>\n",
       "</div>"
      ],
      "text/plain": [
       "            ProductName  labels  \\\n",
       "11590  오* 무드1000 미니 가습기       0   \n",
       "11591  오* 무드1000 미니 가습기       1   \n",
       "\n",
       "                                                 RawText  \n",
       "11590  잘사용중이였는데 갑자기 가습방향이 아래로만 내려가서 ... 이상하네요?\\n수건깔아도...  \n",
       "11591  소리는 조금 나요.\\n물은 750ml정도 넣어야 잘나와요..\\n다른건 괜찮은거 같아...  "
      ]
     },
     "execution_count": 43,
     "metadata": {},
     "output_type": "execute_result"
    }
   ],
   "source": [
    "df.loc[df['ProductName'] == '오* 무드1000 미니 가습기']"
   ]
  },
  {
   "cell_type": "code",
   "execution_count": 44,
   "id": "17d6d232",
   "metadata": {},
   "outputs": [],
   "source": [
    "# 줄바꿈 문자 제거\n",
    "df['RawText'] = df['RawText'].str.replace('\\n', \" \", regex=False)\n",
    "\n",
    "# 한글과 공백을 제외하고 모두 제거\n",
    "df['RawText'] = df['RawText'].str.replace(\"[^ㄱ-ㅎㅏ-ㅣ가-힣 ]\", \" \", regex=True)\n",
    "\n",
    "# 띄어쓰기 교정\n",
    "spacing = Spacing()\n",
    "df['RawText'] = df['RawText'].apply(spacing)"
   ]
  },
  {
   "cell_type": "code",
   "execution_count": 45,
   "id": "fc35a707",
   "metadata": {},
   "outputs": [
    {
     "data": {
      "text/html": [
       "<div>\n",
       "<style scoped>\n",
       "    .dataframe tbody tr th:only-of-type {\n",
       "        vertical-align: middle;\n",
       "    }\n",
       "\n",
       "    .dataframe tbody tr th {\n",
       "        vertical-align: top;\n",
       "    }\n",
       "\n",
       "    .dataframe thead th {\n",
       "        text-align: right;\n",
       "    }\n",
       "</style>\n",
       "<table border=\"1\" class=\"dataframe\">\n",
       "  <thead>\n",
       "    <tr style=\"text-align: right;\">\n",
       "      <th></th>\n",
       "      <th>ProductName</th>\n",
       "      <th>labels</th>\n",
       "      <th>RawText</th>\n",
       "    </tr>\n",
       "  </thead>\n",
       "  <tbody>\n",
       "    <tr>\n",
       "      <th>11590</th>\n",
       "      <td>오* 무드1000 미니 가습기</td>\n",
       "      <td>0</td>\n",
       "      <td>잘 사용 중이였는데 갑자기 가습 방향이 아래로만 내려가서 이상하네요 수건 깔아도 다...</td>\n",
       "    </tr>\n",
       "    <tr>\n",
       "      <th>11591</th>\n",
       "      <td>오* 무드1000 미니 가습기</td>\n",
       "      <td>1</td>\n",
       "      <td>소리는 조금 나요 물은 정도 넣어야 잘 나와 요 다른 건 괜찮은 거 같아 요 이 거...</td>\n",
       "    </tr>\n",
       "  </tbody>\n",
       "</table>\n",
       "</div>"
      ],
      "text/plain": [
       "            ProductName  labels  \\\n",
       "11590  오* 무드1000 미니 가습기       0   \n",
       "11591  오* 무드1000 미니 가습기       1   \n",
       "\n",
       "                                                 RawText  \n",
       "11590  잘 사용 중이였는데 갑자기 가습 방향이 아래로만 내려가서 이상하네요 수건 깔아도 다...  \n",
       "11591  소리는 조금 나요 물은 정도 넣어야 잘 나와 요 다른 건 괜찮은 거 같아 요 이 거...  "
      ]
     },
     "execution_count": 45,
     "metadata": {},
     "output_type": "execute_result"
    }
   ],
   "source": [
    "df.loc[df['ProductName'] == '오* 무드1000 미니 가습기']"
   ]
  },
  {
   "cell_type": "code",
   "execution_count": 46,
   "id": "5b5507f3",
   "metadata": {},
   "outputs": [],
   "source": [
    "df.to_csv('data/keyword_preprocessed_data.csv', index=False) # 혹시 몰라서 저장"
   ]
  },
  {
   "cell_type": "code",
   "execution_count": null,
   "id": "916672ad",
   "metadata": {},
   "outputs": [],
   "source": []
  }
 ],
 "metadata": {
  "kernelspec": {
   "display_name": "Python 3 (ipykernel)",
   "language": "python",
   "name": "python3"
  },
  "language_info": {
   "codemirror_mode": {
    "name": "ipython",
    "version": 3
   },
   "file_extension": ".py",
   "mimetype": "text/x-python",
   "name": "python",
   "nbconvert_exporter": "python",
   "pygments_lexer": "ipython3",
   "version": "3.8.18"
  }
 },
 "nbformat": 4,
 "nbformat_minor": 5
}
