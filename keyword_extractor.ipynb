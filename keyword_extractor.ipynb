{
 "cells": [
  {
   "cell_type": "code",
   "execution_count": 109,
   "metadata": {},
   "outputs": [],
   "source": [
    "import pandas as pd\n",
    "import seaborn as sns\n",
    "import numpy as np\n",
    "# import pykospacing\n",
    "# spacer = pykospacing.Spacing()\n",
    "\n",
    "import re\n",
    "import matplotlib.pyplot as plt\n",
    "%matplotlib inline\n",
    "from collections import Counter\n",
    "import time\n",
    "from sklearn.model_selection import train_test_split\n",
    "import networkx as nx\n",
    "import matplotlib.pyplot as plt\n"
   ]
  },
  {
   "cell_type": "code",
   "execution_count": 110,
   "metadata": {},
   "outputs": [],
   "source": [
    "df = pd.read_csv('data/keyword_preprocessed_data.csv')\n"
   ]
  },
  {
   "cell_type": "markdown",
   "metadata": {},
   "source": [
    "### 불용어 정리"
   ]
  },
  {
   "cell_type": "code",
   "execution_count": 111,
   "metadata": {},
   "outputs": [],
   "source": [
    "# review 컬럼만 리스트로 저장\n",
    "text=''\n",
    "reviews=[]\n",
    "for each_review in df['RawText']:\n",
    "    reviews.append(each_review)"
   ]
  },
  {
   "cell_type": "code",
   "execution_count": 112,
   "metadata": {},
   "outputs": [],
   "source": [
    "#불용어 제거\n",
    "import re\n",
    "def clean_str(text):\n",
    "    pattern = '([a-zA-Z0-9_.+-]+@[a-zA-Z0-9-]+\\.[a-zA-Z0-9-.]+)' # E-mail제거\n",
    "    text = re.sub(pattern=pattern, repl='', string=text)\n",
    "    pattern = '(http|ftp|https)://(?:[-\\w.]|(?:%[\\da-fA-F]{2}))+' # URL제거\n",
    "    text = re.sub(pattern=pattern, repl='', string=text)\n",
    "    pattern = '([ㄱ-ㅎㅏ-ㅣ]+)'  # 한글 자음, 모음 제거\n",
    "    text = re.sub(pattern=pattern, repl='', string=text)\n",
    "    pattern = '<[^>]*>'         # HTML 태그 제거\n",
    "    text = re.sub(pattern=pattern, repl='', string=text)\n",
    "    pattern = '[^\\w\\s]'         # 특수기호제거\n",
    "    text = re.sub(pattern=pattern, repl='', string=text)\n",
    "    return text   \n",
    "\n",
    "review=[]\n",
    "for i in reviews:  #문자가 들어있을때는 인덱스 사용하면 안됨!!!!\n",
    "    a=clean_str(i)\n",
    "    review.append(a)  #불용어제거한 review 저장"
   ]
  },
  {
   "cell_type": "markdown",
   "metadata": {},
   "source": [
    "### 키워드 추출"
   ]
  },
  {
   "cell_type": "code",
   "execution_count": 113,
   "metadata": {},
   "outputs": [],
   "source": [
    "from sklearn.feature_extraction.text import TfidfVectorizer\n",
    "# 키워드 길이 지정\n",
    "n_gram_range = (1, 1)"
   ]
  },
  {
   "cell_type": "code",
   "execution_count": 114,
   "metadata": {},
   "outputs": [],
   "source": [
    "# 리뷰하나씩 키워드로 분리(tfidf-vectorizer)\n",
    "a= len(review) # 불용어 제거한 리뷰\n",
    "\n",
    "token_review_list=[]\n",
    "\n",
    "for i in range(0,a): # 리뷰하나당 처리하기위해 for문 \n",
    "    review_vectorized = TfidfVectorizer(ngram_range=n_gram_range).fit([review[i]])\n",
    "    token_review = review_vectorized.get_feature_names_out()\n",
    "    \n",
    "    token_review_list.append(token_review) # 하나의 리스트를 만들어서 df에 추가해야함.\n",
    "df['review_tfidf']=token_review_list # 토큰 단위로 나누어진 리뷰저장"
   ]
  },
  {
   "cell_type": "markdown",
   "metadata": {},
   "source": [
    "### 임베딩"
   ]
  },
  {
   "cell_type": "code",
   "execution_count": 115,
   "metadata": {},
   "outputs": [],
   "source": [
    "# 키워드 임베딩 모델 생성\n",
    "from sentence_transformers import SentenceTransformer\n",
    "model = SentenceTransformer('distiluse-base-multilingual-cased-v2')"
   ]
  },
  {
   "cell_type": "code",
   "execution_count": 116,
   "metadata": {},
   "outputs": [],
   "source": [
    "# 키워드 임베딩\n",
    "\n",
    "review_embedded_list = []\n",
    "count_embedded_list = []\n",
    "\n",
    "for i in range(0, a):\n",
    "  embedding_review = model.encode([review[i]])\n",
    "  review_embedded_list.append(embedding_review)\n",
    "\n",
    "for i in df['review_tfidf']:\n",
    "  embedding_count = model.encode(i)\n",
    "  count_embedded_list.append(embedding_count)"
   ]
  },
  {
   "cell_type": "markdown",
   "metadata": {},
   "source": [
    "### 코사인 유사도"
   ]
  },
  {
   "cell_type": "code",
   "execution_count": 117,
   "metadata": {},
   "outputs": [],
   "source": [
    "\n",
    "from sklearn.metrics.pairwise import cosine_similarity\n",
    "\n",
    "top_n = 5"
   ]
  },
  {
   "cell_type": "code",
   "execution_count": 118,
   "metadata": {},
   "outputs": [],
   "source": [
    "a = len(review_embedded_list)\n",
    "distances = []\n",
    "keywords = []\n",
    "\n",
    "for i in range(0,a):\n",
    "  distance = cosine_similarity(review_embedded_list[i], count_embedded_list[i])\n",
    "  keyword = [df['review_tfidf'][i][index] for index in distance.argsort()[0][-top_n:]]\n",
    "\n",
    "  distances.append(distance)\n",
    "  keywords.append(keyword)"
   ]
  },
  {
   "cell_type": "code",
   "execution_count": 119,
   "metadata": {},
   "outputs": [
    {
     "data": {
      "text/plain": [
       "array([[15,  7,  1, 14, 10,  0,  2,  9,  6,  8, 13, 11,  5, 12,  3,  4]])"
      ]
     },
     "execution_count": 119,
     "metadata": {},
     "output_type": "execute_result"
    }
   ],
   "source": [
    "distances[0].argsort()"
   ]
  },
  {
   "cell_type": "code",
   "execution_count": 120,
   "metadata": {},
   "outputs": [
    {
     "data": {
      "text/plain": [
       "array([11,  5, 12,  3,  4])"
      ]
     },
     "execution_count": 120,
     "metadata": {},
     "output_type": "execute_result"
    }
   ],
   "source": [
    "distances[0].argsort()[0][-top_n:]"
   ]
  },
  {
   "cell_type": "code",
   "execution_count": 121,
   "metadata": {},
   "outputs": [
    {
     "data": {
      "text/plain": [
       "['좋아요', '배송', '친절하시고', '만족', '만족스럽네요']"
      ]
     },
     "execution_count": 121,
     "metadata": {},
     "output_type": "execute_result"
    }
   ],
   "source": [
    "keywords[0]"
   ]
  },
  {
   "cell_type": "code",
   "execution_count": 129,
   "metadata": {},
   "outputs": [],
   "source": [
    "df['keyword'] = keywords\n"
   ]
  },
  {
   "cell_type": "code",
   "execution_count": 148,
   "metadata": {},
   "outputs": [
    {
     "data": {
      "text/html": [
       "<div>\n",
       "<style scoped>\n",
       "    .dataframe tbody tr th:only-of-type {\n",
       "        vertical-align: middle;\n",
       "    }\n",
       "\n",
       "    .dataframe tbody tr th {\n",
       "        vertical-align: top;\n",
       "    }\n",
       "\n",
       "    .dataframe thead th {\n",
       "        text-align: right;\n",
       "    }\n",
       "</style>\n",
       "<table border=\"1\" class=\"dataframe\">\n",
       "  <thead>\n",
       "    <tr style=\"text-align: right;\">\n",
       "      <th></th>\n",
       "      <th>ProductName</th>\n",
       "      <th>labels</th>\n",
       "      <th>RawText</th>\n",
       "      <th>review_tfidf</th>\n",
       "      <th>keyword</th>\n",
       "    </tr>\n",
       "  </thead>\n",
       "  <tbody>\n",
       "    <tr>\n",
       "      <th>0</th>\n",
       "      <td>LG 울트라HD TV 75형(189cm) 75UN7850KNA+LG사운드바</td>\n",
       "      <td>1</td>\n",
       "      <td>화면이 커서 너무 좋아요 기사분도 친절하시고 배송 날짜보다 빨리 배송되어 잘 보고 ...</td>\n",
       "      <td>[기사분도, 날짜보다, 너무, 만족, 만족스럽네요, 배송, 배송되어, 보고, 빨리,...</td>\n",
       "      <td>[좋아요, 배송, 친절하시고, 만족, 만족스럽네요]</td>\n",
       "    </tr>\n",
       "    <tr>\n",
       "      <th>1</th>\n",
       "      <td>[22년 신모델]  LG그램 15Z95P-GA5LK (i5-1155G7/16GB/...</td>\n",
       "      <td>1</td>\n",
       "      <td>입학 축하 선물로 노트북 뭘 살 지 이것저것 다 찾아보다가 결국 형으로 주문했습니다...</td>\n",
       "      <td>[개봉해보니, 걱정했는데, 결국, 고급스러워졌네요, 기존, 끝내줍니다, 노트북, 도...</td>\n",
       "      <td>[포장도, 배송도, 주문했는데, 예약분부터, 주문했습니다]</td>\n",
       "    </tr>\n",
       "    <tr>\n",
       "      <th>2</th>\n",
       "      <td>무선키보드 마우스 세트 저소음 옵티컬 4버튼 해킹방지 ONG ENTUS OGN-W...</td>\n",
       "      <td>1</td>\n",
       "      <td>배송은 바르고 좋은데 저소음이라고 샀는데 기대 이상이네요 그런데 마우스가 좀 빡빡한...</td>\n",
       "      <td>[그런데, 그렇네요, 기대, 마우스가, 바르고, 배송은, 빡빡한, 샀는데, 이상이네...</td>\n",
       "      <td>[이상이네요, 배송은, 저소음이라고, 샀는데, 마우스가]</td>\n",
       "    </tr>\n",
       "    <tr>\n",
       "      <th>3</th>\n",
       "      <td>(1+1 TJ 태진 블루투스 마이크 / 무선 노래방 마이크</td>\n",
       "      <td>1</td>\n",
       "      <td>코로나로 노래방을 못 가는 아이들이 어디서나 노래부를 수 있어 완전 대 박 시험 끝...</td>\n",
       "      <td>[가는, 구성품, 기존, 끝나는, 날려버렸대요, 노래, 노래방, 노래방을, 노래부를...</td>\n",
       "      <td>[학교에서, 노래방, 마이크네요, 노래방을, 마이크는]</td>\n",
       "    </tr>\n",
       "    <tr>\n",
       "      <th>4</th>\n",
       "      <td>(1+1) OO 휴대용 마스크 살균건조기</td>\n",
       "      <td>1</td>\n",
       "      <td>오늘 받았는데 어머나 너무 좋아요 마스크 바로 넣어 살균 불깜박거리고 너무 좋은데요...</td>\n",
       "      <td>[너무, 넣어, 마스크, 바로, 받았는데, 보관하기도, 보기도, 불깜박거리고, 살균...</td>\n",
       "      <td>[마스크, 좋아요, 어머나, 좋네요, 좋은데요]</td>\n",
       "    </tr>\n",
       "    <tr>\n",
       "      <th>...</th>\n",
       "      <td>...</td>\n",
       "      <td>...</td>\n",
       "      <td>...</td>\n",
       "      <td>...</td>\n",
       "      <td>...</td>\n",
       "    </tr>\n",
       "    <tr>\n",
       "      <th>12266</th>\n",
       "      <td>휴대용 다용도 옷걸이 건조기 제습기 HG-660DY</td>\n",
       "      <td>1</td>\n",
       "      <td>간편한 옷걸이 건조기 휴대하기도 좋고 찜찜한 옷 건조하기도 좋아 만족해요</td>\n",
       "      <td>[간편한, 건조기, 건조하기도, 만족해요, 옷걸이, 좋고, 좋아, 찜찜한, 휴대하기도]</td>\n",
       "      <td>[만족해요, 휴대하기도, 건조기, 건조하기도, 옷걸이]</td>\n",
       "    </tr>\n",
       "    <tr>\n",
       "      <th>12267</th>\n",
       "      <td>휴대폰 태블릿 거치대 자바라 130cm</td>\n",
       "      <td>1</td>\n",
       "      <td>정면 카메라 말고 카메라가 하나 더 필요해서 핸드폰 거치대를 이용해 보려고 주문했는...</td>\n",
       "      <td>[간단하게, 거치대를, 말고, 보려고, 생각보다, 설치할, 옆으로, 이용해, 있어서...</td>\n",
       "      <td>[컴퓨터, 책상, 카메라가, 카메라, 핸드폰]</td>\n",
       "    </tr>\n",
       "    <tr>\n",
       "      <th>12268</th>\n",
       "      <td>휴먼케어 감면 하이패스 시거잭전원타입 HUMC-200</td>\n",
       "      <td>0</td>\n",
       "      <td>장애인 혜택을 못 받아서 좀 아쉽지만 가성비 갑인 제품으로 추천해요 다만 지문인식 ...</td>\n",
       "      <td>[가격, 가격까지, 가격대도, 가격도, 가격에, 가격은, 가격이, 가격이면, 가끔,...</td>\n",
       "      <td>[저렴히, 저렴한, 저렴하게, 저렴해서, 저렴해져서]</td>\n",
       "    </tr>\n",
       "    <tr>\n",
       "      <th>12269</th>\n",
       "      <td>휴플러스 어깨안마기 HPR-190</td>\n",
       "      <td>1</td>\n",
       "      <td>가격이 저렴해서 구매했는데 전에 쓰던 거랑 볼의 크기가 좀 작네요 그냥 저냥 쓸 만...</td>\n",
       "      <td>[가격이, 같아, 거랑, 구매했는데, 구입합니다, 구입해서, 그냥, 그래도, 그런대...</td>\n",
       "      <td>[구입합니다, 저렴하니, 구매했는데, 구입해서, 저렴해서]</td>\n",
       "    </tr>\n",
       "    <tr>\n",
       "      <th>12270</th>\n",
       "      <td>휴플러스 유/무선 어깨 마사지기 코드제로-1600GOLD</td>\n",
       "      <td>1</td>\n",
       "      <td>안마압이 세 긴 세네요 목 부분에 할려니 넘 커네요 어깨 부분은 시원은 해요 팔에 ...</td>\n",
       "      <td>[거니, 내려, 부분에, 부분은, 부분이, 세네요, 시원은, 안마압이, 어깨, 자꾸...</td>\n",
       "      <td>[흘러, 세네요, 자꾸, 팔에, 어깨]</td>\n",
       "    </tr>\n",
       "  </tbody>\n",
       "</table>\n",
       "<p>12271 rows × 5 columns</p>\n",
       "</div>"
      ],
      "text/plain": [
       "                                             ProductName  labels  \\\n",
       "0              LG 울트라HD TV 75형(189cm) 75UN7850KNA+LG사운드바       1   \n",
       "1       [22년 신모델]  LG그램 15Z95P-GA5LK (i5-1155G7/16GB/...       1   \n",
       "2       무선키보드 마우스 세트 저소음 옵티컬 4버튼 해킹방지 ONG ENTUS OGN-W...       1   \n",
       "3                       (1+1 TJ 태진 블루투스 마이크 / 무선 노래방 마이크       1   \n",
       "4                                 (1+1) OO 휴대용 마스크 살균건조기       1   \n",
       "...                                                  ...     ...   \n",
       "12266                       휴대용 다용도 옷걸이 건조기 제습기 HG-660DY       1   \n",
       "12267                              휴대폰 태블릿 거치대 자바라 130cm       1   \n",
       "12268                      휴먼케어 감면 하이패스 시거잭전원타입 HUMC-200       0   \n",
       "12269                                 휴플러스 어깨안마기 HPR-190       1   \n",
       "12270                    휴플러스 유/무선 어깨 마사지기 코드제로-1600GOLD       1   \n",
       "\n",
       "                                                 RawText  \\\n",
       "0      화면이 커서 너무 좋아요 기사분도 친절하시고 배송 날짜보다 빨리 배송되어 잘 보고 ...   \n",
       "1      입학 축하 선물로 노트북 뭘 살 지 이것저것 다 찾아보다가 결국 형으로 주문했습니다...   \n",
       "2      배송은 바르고 좋은데 저소음이라고 샀는데 기대 이상이네요 그런데 마우스가 좀 빡빡한...   \n",
       "3      코로나로 노래방을 못 가는 아이들이 어디서나 노래부를 수 있어 완전 대 박 시험 끝...   \n",
       "4      오늘 받았는데 어머나 너무 좋아요 마스크 바로 넣어 살균 불깜박거리고 너무 좋은데요...   \n",
       "...                                                  ...   \n",
       "12266           간편한 옷걸이 건조기 휴대하기도 좋고 찜찜한 옷 건조하기도 좋아 만족해요   \n",
       "12267  정면 카메라 말고 카메라가 하나 더 필요해서 핸드폰 거치대를 이용해 보려고 주문했는...   \n",
       "12268  장애인 혜택을 못 받아서 좀 아쉽지만 가성비 갑인 제품으로 추천해요 다만 지문인식 ...   \n",
       "12269  가격이 저렴해서 구매했는데 전에 쓰던 거랑 볼의 크기가 좀 작네요 그냥 저냥 쓸 만...   \n",
       "12270  안마압이 세 긴 세네요 목 부분에 할려니 넘 커네요 어깨 부분은 시원은 해요 팔에 ...   \n",
       "\n",
       "                                            review_tfidf  \\\n",
       "0      [기사분도, 날짜보다, 너무, 만족, 만족스럽네요, 배송, 배송되어, 보고, 빨리,...   \n",
       "1      [개봉해보니, 걱정했는데, 결국, 고급스러워졌네요, 기존, 끝내줍니다, 노트북, 도...   \n",
       "2      [그런데, 그렇네요, 기대, 마우스가, 바르고, 배송은, 빡빡한, 샀는데, 이상이네...   \n",
       "3      [가는, 구성품, 기존, 끝나는, 날려버렸대요, 노래, 노래방, 노래방을, 노래부를...   \n",
       "4      [너무, 넣어, 마스크, 바로, 받았는데, 보관하기도, 보기도, 불깜박거리고, 살균...   \n",
       "...                                                  ...   \n",
       "12266   [간편한, 건조기, 건조하기도, 만족해요, 옷걸이, 좋고, 좋아, 찜찜한, 휴대하기도]   \n",
       "12267  [간단하게, 거치대를, 말고, 보려고, 생각보다, 설치할, 옆으로, 이용해, 있어서...   \n",
       "12268  [가격, 가격까지, 가격대도, 가격도, 가격에, 가격은, 가격이, 가격이면, 가끔,...   \n",
       "12269  [가격이, 같아, 거랑, 구매했는데, 구입합니다, 구입해서, 그냥, 그래도, 그런대...   \n",
       "12270  [거니, 내려, 부분에, 부분은, 부분이, 세네요, 시원은, 안마압이, 어깨, 자꾸...   \n",
       "\n",
       "                                keyword  \n",
       "0          [좋아요, 배송, 친절하시고, 만족, 만족스럽네요]  \n",
       "1      [포장도, 배송도, 주문했는데, 예약분부터, 주문했습니다]  \n",
       "2       [이상이네요, 배송은, 저소음이라고, 샀는데, 마우스가]  \n",
       "3        [학교에서, 노래방, 마이크네요, 노래방을, 마이크는]  \n",
       "4            [마스크, 좋아요, 어머나, 좋네요, 좋은데요]  \n",
       "...                                 ...  \n",
       "12266    [만족해요, 휴대하기도, 건조기, 건조하기도, 옷걸이]  \n",
       "12267         [컴퓨터, 책상, 카메라가, 카메라, 핸드폰]  \n",
       "12268     [저렴히, 저렴한, 저렴하게, 저렴해서, 저렴해져서]  \n",
       "12269  [구입합니다, 저렴하니, 구매했는데, 구입해서, 저렴해서]  \n",
       "12270             [흘러, 세네요, 자꾸, 팔에, 어깨]  \n",
       "\n",
       "[12271 rows x 5 columns]"
      ]
     },
     "execution_count": 148,
     "metadata": {},
     "output_type": "execute_result"
    }
   ],
   "source": [
    "df"
   ]
  },
  {
   "cell_type": "markdown",
   "metadata": {},
   "source": [
    "### 시각화"
   ]
  },
  {
   "cell_type": "code",
   "execution_count": 131,
   "metadata": {},
   "outputs": [
    {
     "name": "stdout",
     "output_type": "stream",
     "text": [
      "['(16+6형)캐리어 에어로 18단 투인원 인버터 멀티 에어컨(AMC16VX3SAGH)'\n",
      " '(1등급)(출시기념 무료설치) 위니아 인버터 창문형 에어컨(LVV06ENS)_실버'\n",
      " '(1등급)(출시기념 무료설치)위니아 인버터 창문형 에어컨(WVV06ENW)_화이트' ... '해남 꿀 고구마 베*하*카'\n",
      " '해오* 덴탈마스크 50매' '휴대용 다용도 옷걸이 건조기 제습기 HG-660DY']\n"
     ]
    }
   ],
   "source": [
    "def extract_products_with_both_labels(df):\n",
    "    # 제품별로 그룹화하고 라벨이 0과 1 모두 포함된 제품을 필터링\n",
    "    filtered_df = df.groupby('ProductName').filter(lambda x: x['labels'].nunique() == 2)\n",
    "\n",
    "    # 중복된 제품을 제거하여 유니크한 제품 목록 반환\n",
    "    unique_products = filtered_df['ProductName'].unique()\n",
    "\n",
    "    return unique_products\n",
    "\n",
    "# 함수 호출하여 결과 출력\n",
    "products_with_both_labels = extract_products_with_both_labels(df)\n",
    "print(products_with_both_labels)"
   ]
  },
  {
   "cell_type": "code",
   "execution_count": 149,
   "metadata": {},
   "outputs": [
    {
     "data": {
      "text/html": [
       "<div>\n",
       "<style scoped>\n",
       "    .dataframe tbody tr th:only-of-type {\n",
       "        vertical-align: middle;\n",
       "    }\n",
       "\n",
       "    .dataframe tbody tr th {\n",
       "        vertical-align: top;\n",
       "    }\n",
       "\n",
       "    .dataframe thead th {\n",
       "        text-align: right;\n",
       "    }\n",
       "</style>\n",
       "<table border=\"1\" class=\"dataframe\">\n",
       "  <thead>\n",
       "    <tr style=\"text-align: right;\">\n",
       "      <th></th>\n",
       "      <th>ProductName</th>\n",
       "      <th>labels</th>\n",
       "      <th>RawText</th>\n",
       "      <th>review_tfidf</th>\n",
       "      <th>keyword</th>\n",
       "    </tr>\n",
       "  </thead>\n",
       "  <tbody>\n",
       "    <tr>\n",
       "      <th>11590</th>\n",
       "      <td>오* 무드1000 미니 가습기</td>\n",
       "      <td>0</td>\n",
       "      <td>잘 사용 중이였는데 갑자기 가습 방향이 아래로만 내려가서 이상하네요 수건 깔아도 다...</td>\n",
       "      <td>[가겠음, 가격, 가격대에, 가격도, 가격만큼, 가격에, 가격은, 가격을, 가격이,...</td>\n",
       "      <td>[중국산이라, 중국이, 저렴하지도, 중국에서, 한국에서]</td>\n",
       "    </tr>\n",
       "    <tr>\n",
       "      <th>11591</th>\n",
       "      <td>오* 무드1000 미니 가습기</td>\n",
       "      <td>1</td>\n",
       "      <td>소리는 조금 나요 물은 정도 넣어야 잘 나와 요 다른 건 괜찮은 거 같아 요 이 거...</td>\n",
       "      <td>[가가가앗가가로, 가게, 가게에, 가게에는, 가게에서, 가겠죠, 가겨, 가격, 가격...</td>\n",
       "      <td>[물때가, 물는, 물에서, 물넣고, 물분수양이]</td>\n",
       "    </tr>\n",
       "  </tbody>\n",
       "</table>\n",
       "</div>"
      ],
      "text/plain": [
       "            ProductName  labels  \\\n",
       "11590  오* 무드1000 미니 가습기       0   \n",
       "11591  오* 무드1000 미니 가습기       1   \n",
       "\n",
       "                                                 RawText  \\\n",
       "11590  잘 사용 중이였는데 갑자기 가습 방향이 아래로만 내려가서 이상하네요 수건 깔아도 다...   \n",
       "11591  소리는 조금 나요 물은 정도 넣어야 잘 나와 요 다른 건 괜찮은 거 같아 요 이 거...   \n",
       "\n",
       "                                            review_tfidf  \\\n",
       "11590  [가겠음, 가격, 가격대에, 가격도, 가격만큼, 가격에, 가격은, 가격을, 가격이,...   \n",
       "11591  [가가가앗가가로, 가게, 가게에, 가게에는, 가게에서, 가겠죠, 가겨, 가격, 가격...   \n",
       "\n",
       "                               keyword  \n",
       "11590  [중국산이라, 중국이, 저렴하지도, 중국에서, 한국에서]  \n",
       "11591       [물때가, 물는, 물에서, 물넣고, 물분수양이]  "
      ]
     },
     "execution_count": 149,
     "metadata": {},
     "output_type": "execute_result"
    }
   ],
   "source": [
    "df.loc[df['ProductName'] == '오* 무드1000 미니 가습기']"
   ]
  },
  {
   "cell_type": "code",
   "execution_count": 151,
   "metadata": {},
   "outputs": [
    {
     "name": "stdout",
     "output_type": "stream",
     "text": [
      "부정적인 리뷰에서 가장 유사한 상위 키워드 5가지:\n",
      "[['중국산이라', '중국이', '저렴하지도', '중국에서', '한국에서']]\n",
      "\n",
      "긍정적인 리뷰에서 가장 유사한 상위 키워드 5가지:\n",
      "[['물때가', '물는', '물에서', '물넣고', '물분수양이']]\n"
     ]
    }
   ],
   "source": [
    "def get_keywords(product_name, label):\n",
    "    # 제품명과 라벨에 해당하는 키워드 가져오기\n",
    "    keywords = df[(df['ProductName'] == product_name) & (df['labels'] == label)]['keyword']\n",
    "    return keywords.tolist()  # 리스트로 변환하여 반환\n",
    "\n",
    "# 제품명과 라벨을 입력 받음\n",
    "product_name = '오* 무드1000 미니 가습기'  # 여기에 원하는 제품명을 넣어주세요.\n",
    "label_0 = 0\n",
    "label_1 = 1\n",
    "\n",
    "# 라벨이 0일 때 해당하는 키워드 출력\n",
    "print(\"부정적인 리뷰에서 가장 유사한 상위 키워드 5가지:\")\n",
    "result_label_0 = get_keywords(product_name, label_0)\n",
    "print(result_label_0)\n",
    "\n",
    "# 라벨이 1일 때 해당하는 키워드 출력\n",
    "print(\"\\n긍정적인 리뷰에서 가장 유사한 상위 키워드 5가지:\")\n",
    "result_label_1 = get_keywords(product_name, label_1)\n",
    "print(result_label_1)"
   ]
  },
  {
   "cell_type": "code",
   "execution_count": 152,
   "metadata": {},
   "outputs": [],
   "source": [
    "df.to_csv('data/keyword_extractor_data.csv', index=False) # 혹시 몰라서 저장"
   ]
  },
  {
   "cell_type": "code",
   "execution_count": null,
   "metadata": {},
   "outputs": [],
   "source": []
  }
 ],
 "metadata": {
  "kernelspec": {
   "display_name": "virtual_envs",
   "language": "python",
   "name": "python3"
  },
  "language_info": {
   "codemirror_mode": {
    "name": "ipython",
    "version": 3
   },
   "file_extension": ".py",
   "mimetype": "text/x-python",
   "name": "python",
   "nbconvert_exporter": "python",
   "pygments_lexer": "ipython3",
   "version": "3.11.5"
  }
 },
 "nbformat": 4,
 "nbformat_minor": 2
}
