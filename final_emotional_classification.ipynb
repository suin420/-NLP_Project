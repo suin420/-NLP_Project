{
 "cells": [
  {
   "cell_type": "markdown",
   "id": "22ed71f2",
   "metadata": {},
   "source": [
    "참고: https://wikidocs.net/94600  \n",
    "https://github.com/threegenie/sentiment_project/blob/main/sentiment_project_using_okt.ipynb"
   ]
  },
  {
   "cell_type": "code",
   "execution_count": 2,
   "id": "0bc65de3",
   "metadata": {},
   "outputs": [],
   "source": [
    "import pandas as pd\n",
    "import seaborn as sns\n",
    "import numpy as np\n",
    "import re\n",
    "import matplotlib.pyplot as plt\n",
    "%matplotlib inline\n",
    "from collections import Counter\n",
    "import time\n",
    "from sklearn.model_selection import train_test_split\n",
    "from tensorflow.keras.preprocessing.text import Tokenizer\n",
    "from tensorflow.keras.preprocessing.sequence import pad_sequences\n"
   ]
  },
  {
   "cell_type": "markdown",
   "id": "f02bd1bd",
   "metadata": {},
   "source": [
    "### 총 데이터 합치기"
   ]
  },
  {
   "cell_type": "code",
   "execution_count": 3,
   "id": "eea308c4",
   "metadata": {},
   "outputs": [
    {
     "name": "stderr",
     "output_type": "stream",
     "text": [
      "/var/folders/ph/hz48_2z57cj0x4b76mfndvkc0000gn/T/ipykernel_10757/1696380514.py:2: DtypeWarning: Columns (2) have mixed types. Specify dtype option on import or set low_memory=False.\n",
      "  df = pd.read_csv('data/preprocessed_total_data.csv')\n"
     ]
    }
   ],
   "source": [
    "# 현재까지 모은 데이터 셋 \n",
    "df = pd.read_csv('data/preprocessed_total_data.csv')"
   ]
  },
  {
   "cell_type": "code",
   "execution_count": 4,
   "id": "b8940afe",
   "metadata": {
    "scrolled": false
   },
   "outputs": [
    {
     "data": {
      "text/html": [
       "<div>\n",
       "<style scoped>\n",
       "    .dataframe tbody tr th:only-of-type {\n",
       "        vertical-align: middle;\n",
       "    }\n",
       "\n",
       "    .dataframe tbody tr th {\n",
       "        vertical-align: top;\n",
       "    }\n",
       "\n",
       "    .dataframe thead th {\n",
       "        text-align: right;\n",
       "    }\n",
       "</style>\n",
       "<table border=\"1\" class=\"dataframe\">\n",
       "  <thead>\n",
       "    <tr style=\"text-align: right;\">\n",
       "      <th></th>\n",
       "      <th>RawText</th>\n",
       "      <th>ReviewScore</th>\n",
       "      <th>ProductName</th>\n",
       "      <th>labels</th>\n",
       "      <th>tokenized</th>\n",
       "    </tr>\n",
       "  </thead>\n",
       "  <tbody>\n",
       "    <tr>\n",
       "      <th>0</th>\n",
       "      <td>머리결이 푸석해졌어요. 염색시간은 3시간정도 해야하는데 너무 번거로워요.</td>\n",
       "      <td>5</td>\n",
       "      <td>OO 헤나 파우더 100g 1개</td>\n",
       "      <td>0</td>\n",
       "      <td>['머리', '결', '푸석해졌어요', '.', '염색', '3시간', '정도', ...</td>\n",
       "    </tr>\n",
       "    <tr>\n",
       "      <th>1</th>\n",
       "      <td>천연헤나가 좋다는 건 알지만 흰머리 염색은 너무 번거롭고 오래걸리는 단점이 있네요....</td>\n",
       "      <td>5</td>\n",
       "      <td>OO 헤나 파우더 100g 1개</td>\n",
       "      <td>0</td>\n",
       "      <td>['천', '연', '헤나', '좋다는', '건', '알', '흰', '머리', '...</td>\n",
       "    </tr>\n",
       "    <tr>\n",
       "      <th>2</th>\n",
       "      <td>다크 브라운으로 염색했는데, 발색이 블랙처럼 너무 어둡습니다. 염색 다음날 투명으로...</td>\n",
       "      <td>5</td>\n",
       "      <td>OO 헤나 파우더 100g 1개</td>\n",
       "      <td>0</td>\n",
       "      <td>['다크', '브라운', '염색', '했는데', ',', '발색', '블랙', '처...</td>\n",
       "    </tr>\n",
       "    <tr>\n",
       "      <th>3</th>\n",
       "      <td>염색할때 헤나를 계속 사용했는데요 ㅇㅇㅇ는 처음 사용해보네요. 염색은 잘 되는것 같...</td>\n",
       "      <td>4</td>\n",
       "      <td>OO 헤나 파우더 100g 1개</td>\n",
       "      <td>0</td>\n",
       "      <td>['염색', '할', '헤나', '계속', '사용', '했는데요', 'ㅇㅇㅇ', '...</td>\n",
       "    </tr>\n",
       "    <tr>\n",
       "      <th>4</th>\n",
       "      <td>첫번째 주문입니다. 저렴한 가격도 아닌데, 염색이 잘 되지 않습니다. 사용하기도 불...</td>\n",
       "      <td>5</td>\n",
       "      <td>OO 헤나 파우더 100g 1개</td>\n",
       "      <td>0</td>\n",
       "      <td>['첫', '번째', '주문', '입니다', '.', '저렴한', '가격', '아닌...</td>\n",
       "    </tr>\n",
       "    <tr>\n",
       "      <th>...</th>\n",
       "      <td>...</td>\n",
       "      <td>...</td>\n",
       "      <td>...</td>\n",
       "      <td>...</td>\n",
       "      <td>...</td>\n",
       "    </tr>\n",
       "    <tr>\n",
       "      <th>625025</th>\n",
       "      <td>장마라그런가!!! 달지않아요</td>\n",
       "      <td>2</td>\n",
       "      <td>NaN</td>\n",
       "      <td>0</td>\n",
       "      <td>['장마', '라', '런가', '!!!', '달', '지', '않아요']</td>\n",
       "    </tr>\n",
       "    <tr>\n",
       "      <th>625026</th>\n",
       "      <td>다이슨 케이스 구매했어요 다이슨 슈퍼소닉 드라이기 케이스 구매했어요가격 괜찮고 배송...</td>\n",
       "      <td>5</td>\n",
       "      <td>NaN</td>\n",
       "      <td>1</td>\n",
       "      <td>['다이슨', '케이스', '구매', '다이슨', '슈퍼소닉', '드라이기', '케...</td>\n",
       "    </tr>\n",
       "    <tr>\n",
       "      <th>625027</th>\n",
       "      <td>로드샾에서 사는것보다 세배 저렴하네요 ㅜㅜ 자주이용할께요</td>\n",
       "      <td>5</td>\n",
       "      <td>NaN</td>\n",
       "      <td>1</td>\n",
       "      <td>['로드샾', '사는것보다', '세배', '저렴하네요', 'ㅜㅜ', '자주', '용...</td>\n",
       "    </tr>\n",
       "    <tr>\n",
       "      <th>625028</th>\n",
       "      <td>넘이쁘고 쎄련되보이네요~</td>\n",
       "      <td>5</td>\n",
       "      <td>NaN</td>\n",
       "      <td>1</td>\n",
       "      <td>['넘', '이쁘고', '쎄련', '되', '보이네요', '~']</td>\n",
       "    </tr>\n",
       "    <tr>\n",
       "      <th>625029</th>\n",
       "      <td>아직 사용해보지도않았고 다른 제품을 써본적이없어서 잘 모르겠지만 ㅎㅎ 배송은 빨랐습니다</td>\n",
       "      <td>5</td>\n",
       "      <td>NaN</td>\n",
       "      <td>1</td>\n",
       "      <td>['아직', '사용', '해보지도', '않았고', '제품', '써', '본적', '...</td>\n",
       "    </tr>\n",
       "  </tbody>\n",
       "</table>\n",
       "<p>625030 rows × 5 columns</p>\n",
       "</div>"
      ],
      "text/plain": [
       "                                                  RawText  ReviewScore  \\\n",
       "0                머리결이 푸석해졌어요. 염색시간은 3시간정도 해야하는데 너무 번거로워요.            5   \n",
       "1       천연헤나가 좋다는 건 알지만 흰머리 염색은 너무 번거롭고 오래걸리는 단점이 있네요....            5   \n",
       "2       다크 브라운으로 염색했는데, 발색이 블랙처럼 너무 어둡습니다. 염색 다음날 투명으로...            5   \n",
       "3       염색할때 헤나를 계속 사용했는데요 ㅇㅇㅇ는 처음 사용해보네요. 염색은 잘 되는것 같...            4   \n",
       "4       첫번째 주문입니다. 저렴한 가격도 아닌데, 염색이 잘 되지 않습니다. 사용하기도 불...            5   \n",
       "...                                                   ...          ...   \n",
       "625025                                    장마라그런가!!! 달지않아요            2   \n",
       "625026  다이슨 케이스 구매했어요 다이슨 슈퍼소닉 드라이기 케이스 구매했어요가격 괜찮고 배송...            5   \n",
       "625027                    로드샾에서 사는것보다 세배 저렴하네요 ㅜㅜ 자주이용할께요            5   \n",
       "625028                                      넘이쁘고 쎄련되보이네요~            5   \n",
       "625029   아직 사용해보지도않았고 다른 제품을 써본적이없어서 잘 모르겠지만 ㅎㅎ 배송은 빨랐습니다            5   \n",
       "\n",
       "              ProductName  labels  \\\n",
       "0       OO 헤나 파우더 100g 1개       0   \n",
       "1       OO 헤나 파우더 100g 1개       0   \n",
       "2       OO 헤나 파우더 100g 1개       0   \n",
       "3       OO 헤나 파우더 100g 1개       0   \n",
       "4       OO 헤나 파우더 100g 1개       0   \n",
       "...                   ...     ...   \n",
       "625025                NaN       0   \n",
       "625026                NaN       1   \n",
       "625027                NaN       1   \n",
       "625028                NaN       1   \n",
       "625029                NaN       1   \n",
       "\n",
       "                                                tokenized  \n",
       "0       ['머리', '결', '푸석해졌어요', '.', '염색', '3시간', '정도', ...  \n",
       "1       ['천', '연', '헤나', '좋다는', '건', '알', '흰', '머리', '...  \n",
       "2       ['다크', '브라운', '염색', '했는데', ',', '발색', '블랙', '처...  \n",
       "3       ['염색', '할', '헤나', '계속', '사용', '했는데요', 'ㅇㅇㅇ', '...  \n",
       "4       ['첫', '번째', '주문', '입니다', '.', '저렴한', '가격', '아닌...  \n",
       "...                                                   ...  \n",
       "625025          ['장마', '라', '런가', '!!!', '달', '지', '않아요']  \n",
       "625026  ['다이슨', '케이스', '구매', '다이슨', '슈퍼소닉', '드라이기', '케...  \n",
       "625027  ['로드샾', '사는것보다', '세배', '저렴하네요', 'ㅜㅜ', '자주', '용...  \n",
       "625028               ['넘', '이쁘고', '쎄련', '되', '보이네요', '~']  \n",
       "625029  ['아직', '사용', '해보지도', '않았고', '제품', '써', '본적', '...  \n",
       "\n",
       "[625030 rows x 5 columns]"
      ]
     },
     "execution_count": 4,
     "metadata": {},
     "output_type": "execute_result"
    }
   ],
   "source": [
    "df # 총 데이터셋은 625539건"
   ]
  },
  {
   "cell_type": "markdown",
   "id": "ab8d74d6",
   "metadata": {},
   "source": [
    "### 단어와 길이 분포 확인하기"
   ]
  },
  {
   "cell_type": "code",
   "execution_count": 5,
   "id": "7dc08d75",
   "metadata": {},
   "outputs": [],
   "source": [
    "# 긍정, 부정 각 단어의 빈도수 계산 \n",
    "negative_words = np.hstack(df[df.labels == 0]['tokenized'].values)\n",
    "positive_words = np.hstack(df[df.labels == 1]['tokenized'].values)"
   ]
  },
  {
   "cell_type": "code",
   "execution_count": 6,
   "id": "3f7900af",
   "metadata": {},
   "outputs": [
    {
     "name": "stdout",
     "output_type": "stream",
     "text": [
      "[(\"['배송', '너무', '느림']\", 5), (\"['사이즈', '작아요']\", 5), (\"['배송', '느려요']\", 5), (\"['배송', '너무', '느려요']\", 5), (\"['별로', '요']\", 5), (\"['빠른', '배송', '감사합니다']\", 4), (\"['배송', '늦어요']\", 4), (\"['생각', '별로', '에요']\", 4), (\"['배송', '엄청', '느림']\", 4), (\"['배송', '느립니다']\", 4), (\"['그냥', '그래요', '배송', '빨라요']\", 4), ('[]', 4), (\"['배송', '빨라요']\", 4), (\"['배송', '너무', '오래', '걸렸어요']\", 4), (\"['배송', '너무', '느립니다']\", 3), (\"['생각', '사이즈', '작아요']\", 3), (\"['너무', '작아요']\", 3), (\"['그냥', '그래요']\", 3), (\"['그냥', '그렇습니다']\", 3), (\"['입맛', '에는', '안', '맞아요']\", 3)]\n"
     ]
    }
   ],
   "source": [
    "# 부정 리뷰에 대해서 빈도수가 높은 상위 20개 단어들을 출력\n",
    "negative_word_count = Counter(negative_words)\n",
    "print(negative_word_count.most_common(20))"
   ]
  },
  {
   "cell_type": "code",
   "execution_count": 7,
   "id": "24b24208",
   "metadata": {},
   "outputs": [
    {
     "name": "stdout",
     "output_type": "stream",
     "text": [
      "[(\"['배송', '빠르고', '제품', '좋아요']\", 23), (\"['배송', '빠르고', '좋아요']\", 17), (\"['배송', '빠르고', '제품', '좋네요']\", 16), (\"['배송', '빠르고', '상품', '좋아요']\", 16), (\"['배송', '빠르고', '향', '좋아요']\", 16), (\"['배송', '빠르고', '물건', '좋아요']\", 13), (\"['배송', '빠르고', '제품', '만족합니다']\", 12), (\"['배송', '빠르고', '좋아요', '~']\", 12), (\"['배송', '빠르고', '품질', '좋아요']\", 11), (\"['배송', '빠르고', '좋습니다']\", 11), (\"['잘', '사용', '있습니다']\", 11), (\"['상품', '배송', '만족합니다']\", 11), (\"['배송', '빠르고', '좋아요', '~~']\", 10), (\"['배송', '빠르고', '가성', '비', '좋아요']\", 10), (\"['배송', '빠르고', '상품', '만족합니다']\", 10), (\"['배송', '빠르고', '좋아요', '~~~']\", 10), (\"['배송', '빠르고', '제품', '좋습니다']\", 10), (\"['가성', '비', '좋은', '제품', '입니다']\", 9), (\"['배송', '빠르고', '좋아요', '^^']\", 9), (\"['잘', '사용', '있어요']\", 9)]\n"
     ]
    }
   ],
   "source": [
    "# 긍정 리뷰에 대해서 빈도수가 높은 상위 20개 단어들을 출력\n",
    "positive_word_count = Counter(positive_words)\n",
    "print(positive_word_count.most_common(20))"
   ]
  },
  {
   "cell_type": "code",
   "execution_count": 8,
   "id": "e5bc93b2",
   "metadata": {},
   "outputs": [
    {
     "name": "stdout",
     "output_type": "stream",
     "text": [
      "긍정 리뷰의 평균 길이 : 84.022321502304\n",
      "부정 리뷰의 평균 길이 : 127.9651687883002\n"
     ]
    },
    {
     "data": {
      "image/png": "[encoded data removed]",
      "text/plain": [
       "<Figure size 900x400 with 2 Axes>"
      ]
     },
     "metadata": {},
     "output_type": "display_data"
    }
   ],
   "source": [
    "# 두 가지 경우에 대해서 각각 길이 분포를 확인\n",
    "fig,(ax1,ax2) = plt.subplots(1,2,figsize=(9,4))\n",
    "text_len = df[df['labels']==1]['tokenized'].map(lambda x: len(x))\n",
    "ax1.hist(text_len, color='pink')\n",
    "ax1.set_title('Positive Reviews')\n",
    "ax1.set_xlabel('length of samples')\n",
    "ax1.set_ylabel('number of samples')\n",
    "print('긍정 리뷰의 평균 길이 :', np.mean(text_len))\n",
    "\n",
    "text_len = df[df['labels']==0]['tokenized'].map(lambda x: len(x))\n",
    "ax2.hist(text_len, color='gray')\n",
    "ax2.set_title('Negative Reviews')\n",
    "fig.suptitle('Words in texts')\n",
    "ax2.set_xlabel('length of samples')\n",
    "ax2.set_ylabel('number of samples')\n",
    "print('부정 리뷰의 평균 길이 :', np.mean(text_len))\n",
    "plt.show()\n"
   ]
  },
  {
   "cell_type": "markdown",
   "id": "4df0fa5c",
   "metadata": {},
   "source": [
    "긍정 리뷰보다는 부정 리뷰가 좀 더 길게 작성된 경향이 있는 것 같다."
   ]
  },
  {
   "cell_type": "markdown",
   "id": "c5fd87ef",
   "metadata": {},
   "source": [
    "### 정수 인코딩"
   ]
  },
  {
   "cell_type": "code",
   "execution_count": 9,
   "id": "63fced2e",
   "metadata": {},
   "outputs": [
    {
     "name": "stdout",
     "output_type": "stream",
     "text": [
      "훈련용 리뷰의 개수 : 468772\n",
      "테스트용 리뷰의 개수 : 156258\n"
     ]
    }
   ],
   "source": [
    "# 훈련 데이터와 테스트 데이터 분리하기\n",
    "train_data, test_data = train_test_split(df, test_size = 0.25, random_state = 42)\n",
    "print('훈련용 리뷰의 개수 :', len(train_data))\n",
    "print('테스트용 리뷰의 개수 :', len(test_data))"
   ]
  },
  {
   "cell_type": "code",
   "execution_count": 10,
   "id": "9211d091",
   "metadata": {},
   "outputs": [],
   "source": [
    "X_train = train_data['tokenized'].values\n",
    "y_train = train_data['labels'].values\n",
    "X_test= test_data['tokenized'].values\n",
    "y_test = test_data['labels'].values"
   ]
  },
  {
   "cell_type": "code",
   "execution_count": 11,
   "id": "fe631be4",
   "metadata": {},
   "outputs": [],
   "source": [
    "tokenizer = Tokenizer()\n",
    "tokenizer.fit_on_texts(X_train)"
   ]
  },
  {
   "cell_type": "code",
   "execution_count": 12,
   "id": "ca0cb6a3",
   "metadata": {},
   "outputs": [
    {
     "name": "stdout",
     "output_type": "stream",
     "text": [
      "단어 집합(vocabulary)의 크기 : 165578\n",
      "등장 빈도가 1번 이하인 희귀 단어의 수: 87896\n",
      "단어 집합에서 희귀 단어의 비율: 53.08434695430553\n",
      "전체 등장 빈도에서 희귀 단어 등장 빈도 비율: 1.0431068387012858\n"
     ]
    }
   ],
   "source": [
    "threshold = 2\n",
    "total_cnt = len(tokenizer.word_index) # 단어의 수\n",
    "rare_cnt = 0 # 등장 빈도수가 threshold보다 작은 단어의 개수를 카운트\n",
    "total_freq = 0 # 훈련 데이터의 전체 단어 빈도수 총 합\n",
    "rare_freq = 0 # 등장 빈도수가 threshold보다 작은 단어의 등장 빈도수의 총 합\n",
    "\n",
    "# 단어와 빈도수의 쌍(pair)을 key와 value로 받는다.\n",
    "for key, value in tokenizer.word_counts.items():\n",
    "    total_freq = total_freq + value\n",
    "\n",
    "    # 단어의 등장 빈도수가 threshold보다 작으면\n",
    "    if(value < threshold):\n",
    "        rare_cnt = rare_cnt + 1\n",
    "        rare_freq = rare_freq + value\n",
    "\n",
    "print('단어 집합(vocabulary)의 크기 :',total_cnt)\n",
    "print('등장 빈도가 %s번 이하인 희귀 단어의 수: %s'%(threshold - 1, rare_cnt))\n",
    "print(\"단어 집합에서 희귀 단어의 비율:\", (rare_cnt / total_cnt)*100)\n",
    "print(\"전체 등장 빈도에서 희귀 단어 등장 빈도 비율:\", (rare_freq / total_freq)*100)\n"
   ]
  },
  {
   "cell_type": "code",
   "execution_count": 13,
   "id": "a55c8d8e",
   "metadata": {},
   "outputs": [
    {
     "name": "stdout",
     "output_type": "stream",
     "text": [
      "단어 집합의 크기 : 77684\n"
     ]
    }
   ],
   "source": [
    "# 전체 단어 개수 중 빈도수 2이하인 단어 개수는 제거.\n",
    "# 0번 패딩 토큰과 1번 OOV 토큰을 고려하여 +2\n",
    "vocab_size = total_cnt - rare_cnt + 2\n",
    "print('단어 집합의 크기 :',vocab_size)\n"
   ]
  },
  {
   "cell_type": "code",
   "execution_count": 14,
   "id": "1b245700",
   "metadata": {},
   "outputs": [],
   "source": [
    "tokenizer = Tokenizer(vocab_size, oov_token = 'unk') \n",
    "tokenizer.fit_on_texts(X_train)\n",
    "X_train = tokenizer.texts_to_sequences(X_train)\n",
    "X_test = tokenizer.texts_to_sequences(X_test)\n"
   ]
  },
  {
   "cell_type": "code",
   "execution_count": 15,
   "id": "d008e891",
   "metadata": {},
   "outputs": [
    {
     "name": "stdout",
     "output_type": "stream",
     "text": [
      "[[22, 3265, 2, 2, 613, 982], [3053, 32, 3900, 16, 63, 1130, 523, 6908, 1649, 10, 2, 2, 269, 35, 2, 2, 883, 1638, 9, 29, 280, 1730, 2, 2, 22, 261, 346, 23, 2, 2, 89, 21, 6, 2349, 32, 20, 2, 2], [115, 10736, 860, 4019, 849, 618, 2628, 6, 8547, 15]]\n"
     ]
    }
   ],
   "source": [
    "print(X_train[:3])"
   ]
  },
  {
   "cell_type": "code",
   "execution_count": 16,
   "id": "5e0c5aec",
   "metadata": {},
   "outputs": [
    {
     "name": "stdout",
     "output_type": "stream",
     "text": [
      "[[88, 2869, 5, 44, 3356], [1], [467, 50, 2175, 32, 61, 62, 161, 309, 10602, 101, 2163, 254, 5156, 131, 34, 229, 41, 2, 2]]\n"
     ]
    }
   ],
   "source": [
    "print(X_test[:3])"
   ]
  },
  {
   "cell_type": "markdown",
   "id": "1b4d1e9a",
   "metadata": {},
   "source": [
    "### 패딩"
   ]
  },
  {
   "cell_type": "code",
   "execution_count": 17,
   "id": "8d37b842",
   "metadata": {},
   "outputs": [
    {
     "name": "stdout",
     "output_type": "stream",
     "text": [
      "리뷰의 최대 길이: 1364\n",
      "리뷰의 평균 길이: 17.975403821047333\n"
     ]
    },
    {
     "data": {
      "image/png": "[encoded data removed]",
      "text/plain": [
       "<Figure size 500x300 with 1 Axes>"
      ]
     },
     "metadata": {},
     "output_type": "display_data"
    }
   ],
   "source": [
    "# 전체 데이터에서 가장 길이가 긴 리뷰와 전체 데이터의 길이 분포\n",
    "max_length = max(len(review) for review in X_train)\n",
    "print('리뷰의 최대 길이:', max_length)\n",
    "print('리뷰의 평균 길이:', sum(map(len, X_train))/len(X_train))\n",
    "\n",
    "plt.figure(figsize=(5, 3))  # 그래프 크기 조정\n",
    "plt.hist([len(review) for review in X_train], bins=50, color='#FD6F22')\n",
    "plt.xlabel('length of samples')\n",
    "plt.ylabel('number of samples')\n",
    "plt.title('Distribution of sample lengths')\n",
    "plt.xlim(0, max_length)  # 가로 축 범위 조정\n",
    "plt.show();\n"
   ]
  },
  {
   "cell_type": "code",
   "execution_count": 18,
   "id": "751b7ece",
   "metadata": {
    "scrolled": false
   },
   "outputs": [
    {
     "name": "stdout",
     "output_type": "stream",
     "text": [
      "리뷰의 최대 길이 (제거 후): 684\n",
      "리뷰의 평균 길이 (제거 후): 17.965927635691077\n"
     ]
    },
    {
     "data": {
      "image/png": "[encoded data removed]",
      "text/plain": [
       "<Figure size 500x300 with 1 Axes>"
      ]
     },
     "metadata": {},
     "output_type": "display_data"
    }
   ],
   "source": [
    "# 가장 긴 리뷰의 길이를 두 번 찾습니다.\n",
    "max_lengths = sorted([len(review) for review in X_train], reverse=True)[:5]\n",
    "\n",
    "# 최대값을 제외한 리뷰 길이들로 이루어진 리스트를 만듭니다.\n",
    "filtered_lengths = [len(review) for review in X_train if len(review) not in max_lengths]\n",
    "\n",
    "print('리뷰의 최대 길이 (제거 후):', max(filtered_lengths))\n",
    "print('리뷰의 평균 길이 (제거 후):', sum(filtered_lengths) / len(filtered_lengths))\n",
    "\n",
    "plt.figure(figsize=(5, 3))\n",
    "plt.hist(filtered_lengths, bins=50, color='#FD6F22')\n",
    "plt.xlabel('length of samples')\n",
    "plt.ylabel('number of samples')\n",
    "plt.title('Distribution of sample lengths (excluding top 5)')\n",
    "plt.xlim(0, max(filtered_lengths))\n",
    "plt.show()"
   ]
  },
  {
   "cell_type": "markdown",
   "id": "754fc762",
   "metadata": {},
   "source": [
    "전체적으로는 100이하의 길이를 가지는 것으로 보인다."
   ]
  },
  {
   "cell_type": "code",
   "execution_count": 19,
   "id": "394d5e63",
   "metadata": {},
   "outputs": [],
   "source": [
    "def below_threshold_len(max_len, nested_list):\n",
    "    count = 0\n",
    "    for sentence in nested_list:\n",
    "        if(len(sentence) <= max_len):\n",
    "            count = count + 1\n",
    "    print('전체 샘플 중 길이가 %s 이하인 샘플의 비율: %s'%(max_len, (count / len(nested_list))*100))\n"
   ]
  },
  {
   "cell_type": "code",
   "execution_count": 20,
   "id": "25b4722f",
   "metadata": {},
   "outputs": [
    {
     "name": "stdout",
     "output_type": "stream",
     "text": [
      "전체 샘플 중 길이가 350 이하인 샘플의 비율: 99.98976048057477\n"
     ]
    }
   ],
   "source": [
    "# 몇 개의 샘플들을 온전히 보전할 수 있는지 확인\n",
    "max_len = 350\n",
    "below_threshold_len(max_len, X_train)"
   ]
  },
  {
   "cell_type": "markdown",
   "id": "f0f9b0b4",
   "metadata": {},
   "source": [
    "훈련용 리뷰의 99.9%가 350이하의 길이를 가진다. 훈련용 리뷰를 길이 350으로 패딩한다."
   ]
  },
  {
   "cell_type": "code",
   "execution_count": 21,
   "id": "1955c916",
   "metadata": {},
   "outputs": [],
   "source": [
    "X_train = pad_sequences(X_train, maxlen=max_len)\n",
    "X_test = pad_sequences(X_test, maxlen=max_len)"
   ]
  },
  {
   "cell_type": "code",
   "execution_count": null,
   "id": "fe008468",
   "metadata": {},
   "outputs": [],
   "source": []
  },
  {
   "cell_type": "markdown",
   "id": "5bcfc061",
   "metadata": {},
   "source": [
    "## GRU로 네이버 쇼핑 리뷰 감성 분류하기"
   ]
  },
  {
   "cell_type": "code",
   "execution_count": 24,
   "id": "073fc6fa",
   "metadata": {},
   "outputs": [],
   "source": [
    "import tensorflow as tf\n",
    "from tensorflow.keras.layers import Embedding, Dense, GRU\n",
    "from tensorflow.keras.models import Sequential\n",
    "from tensorflow.keras.models import load_model\n",
    "from tensorflow.keras.callbacks import EarlyStopping, ModelCheckpoint"
   ]
  },
  {
   "cell_type": "code",
   "execution_count": 27,
   "id": "a66484bb",
   "metadata": {
    "scrolled": true
   },
   "outputs": [
    {
     "data": {
      "text/plain": [
       "77684"
      ]
     },
     "execution_count": 27,
     "metadata": {},
     "output_type": "execute_result"
    }
   ],
   "source": [
    "vocab_size"
   ]
  },
  {
   "cell_type": "code",
   "execution_count": 28,
   "id": "e42824c6",
   "metadata": {},
   "outputs": [
    {
     "name": "stdout",
     "output_type": "stream",
     "text": [
      "GPU를 사용합니다.\n"
     ]
    }
   ],
   "source": [
    "# GPU 디바이스 사용 확인\n",
    "physical_devices = tf.config.list_physical_devices('GPU')\n",
    "if physical_devices:\n",
    "    tf.config.experimental.set_memory_growth(physical_devices[0], True)\n",
    "    print(\"GPU를 사용합니다.\")\n",
    "else:\n",
    "    print(\"GPU를 찾을 수 없습니다. CPU를 사용합니다.\")"
   ]
  },
  {
   "cell_type": "code",
   "execution_count": 29,
   "id": "3ec14c5f",
   "metadata": {},
   "outputs": [],
   "source": [
    "embedding_dim = 100\n",
    "hidden_units = 128\n",
    "\n",
    "model = Sequential()\n",
    "model.add(Embedding(vocab_size, embedding_dim))\n",
    "model.add(GRU(hidden_units))\n",
    "model.add(Dense(1, activation='sigmoid'))"
   ]
  },
  {
   "cell_type": "code",
   "execution_count": 30,
   "id": "2ba88d3b",
   "metadata": {},
   "outputs": [
    {
     "name": "stdout",
     "output_type": "stream",
     "text": [
      "Epoch 1/15\n"
     ]
    },
    {
     "name": "stderr",
     "output_type": "stream",
     "text": [
      "2024-04-19 10:03:00.030294: I tensorflow/core/grappler/optimizers/custom_graph_optimizer_registry.cc:117] Plugin optimizer for device_type GPU is enabled.\n"
     ]
    },
    {
     "name": "stdout",
     "output_type": "stream",
     "text": [
      "\u001b[1m5860/5860\u001b[0m \u001b[32m━━━━━━━━━━━━━━━━━━━━\u001b[0m\u001b[37m\u001b[0m \u001b[1m0s\u001b[0m 38ms/step - acc: 0.8376 - loss: 0.3660\n",
      "Epoch 1: val_acc improved from -inf to 0.89505, saving model to best_model.keras\n",
      "\u001b[1m5860/5860\u001b[0m \u001b[32m━━━━━━━━━━━━━━━━━━━━\u001b[0m\u001b[37m\u001b[0m \u001b[1m237s\u001b[0m 40ms/step - acc: 0.8376 - loss: 0.3660 - val_acc: 0.8950 - val_loss: 0.2636\n",
      "Epoch 2/15\n",
      "\u001b[1m5860/5860\u001b[0m \u001b[32m━━━━━━━━━━━━━━━━━━━━\u001b[0m\u001b[37m\u001b[0m \u001b[1m0s\u001b[0m 38ms/step - acc: 0.9095 - loss: 0.2340\n",
      "Epoch 2: val_acc improved from 0.89505 to 0.90735, saving model to best_model.keras\n",
      "\u001b[1m5860/5860\u001b[0m \u001b[32m━━━━━━━━━━━━━━━━━━━━\u001b[0m\u001b[37m\u001b[0m \u001b[1m235s\u001b[0m 40ms/step - acc: 0.9095 - loss: 0.2340 - val_acc: 0.9074 - val_loss: 0.2375\n",
      "Epoch 3/15\n",
      "\u001b[1m5859/5860\u001b[0m \u001b[32m━━━━━━━━━━━━━━━━━━━\u001b[0m\u001b[37m━\u001b[0m \u001b[1m0s\u001b[0m 38ms/step - acc: 0.9250 - loss: 0.2015\n",
      "Epoch 3: val_acc improved from 0.90735 to 0.90854, saving model to best_model.keras\n",
      "\u001b[1m5860/5860\u001b[0m \u001b[32m━━━━━━━━━━━━━━━━━━━━\u001b[0m\u001b[37m\u001b[0m \u001b[1m236s\u001b[0m 40ms/step - acc: 0.9250 - loss: 0.2015 - val_acc: 0.9085 - val_loss: 0.2407\n",
      "Epoch 4/15\n",
      "\u001b[1m5859/5860\u001b[0m \u001b[32m━━━━━━━━━━━━━━━━━━━\u001b[0m\u001b[37m━\u001b[0m \u001b[1m0s\u001b[0m 38ms/step - acc: 0.9368 - loss: 0.1770\n",
      "Epoch 4: val_acc improved from 0.90854 to 0.90965, saving model to best_model.keras\n",
      "\u001b[1m5860/5860\u001b[0m \u001b[32m━━━━━━━━━━━━━━━━━━━━\u001b[0m\u001b[37m\u001b[0m \u001b[1m235s\u001b[0m 40ms/step - acc: 0.9368 - loss: 0.1770 - val_acc: 0.9096 - val_loss: 0.2326\n",
      "Epoch 5/15\n",
      "\u001b[1m5859/5860\u001b[0m \u001b[32m━━━━━━━━━━━━━━━━━━━\u001b[0m\u001b[37m━\u001b[0m \u001b[1m0s\u001b[0m 38ms/step - acc: 0.9449 - loss: 0.1564\n",
      "Epoch 5: val_acc did not improve from 0.90965\n",
      "\u001b[1m5860/5860\u001b[0m \u001b[32m━━━━━━━━━━━━━━━━━━━━\u001b[0m\u001b[37m\u001b[0m \u001b[1m235s\u001b[0m 40ms/step - acc: 0.9449 - loss: 0.1564 - val_acc: 0.9084 - val_loss: 0.2475\n",
      "Epoch 6/15\n",
      "\u001b[1m5859/5860\u001b[0m \u001b[32m━━━━━━━━━━━━━━━━━━━\u001b[0m\u001b[37m━\u001b[0m \u001b[1m0s\u001b[0m 38ms/step - acc: 0.9518 - loss: 0.1410\n",
      "Epoch 6: val_acc did not improve from 0.90965\n",
      "\u001b[1m5860/5860\u001b[0m \u001b[32m━━━━━━━━━━━━━━━━━━━━\u001b[0m\u001b[37m\u001b[0m \u001b[1m235s\u001b[0m 40ms/step - acc: 0.9518 - loss: 0.1410 - val_acc: 0.9073 - val_loss: 0.2510\n",
      "Epoch 7/15\n",
      "\u001b[1m5860/5860\u001b[0m \u001b[32m━━━━━━━━━━━━━━━━━━━━\u001b[0m\u001b[37m\u001b[0m \u001b[1m0s\u001b[0m 38ms/step - acc: 0.9575 - loss: 0.1273\n",
      "Epoch 7: val_acc did not improve from 0.90965\n",
      "\u001b[1m5860/5860\u001b[0m \u001b[32m━━━━━━━━━━━━━━━━━━━━\u001b[0m\u001b[37m\u001b[0m \u001b[1m235s\u001b[0m 40ms/step - acc: 0.9575 - loss: 0.1273 - val_acc: 0.9066 - val_loss: 0.2593\n",
      "Epoch 8/15\n",
      "\u001b[1m5860/5860\u001b[0m \u001b[32m━━━━━━━━━━━━━━━━━━━━\u001b[0m\u001b[37m\u001b[0m \u001b[1m0s\u001b[0m 38ms/step - acc: 0.9627 - loss: 0.1129"
     ]
    }
   ],
   "source": [
    "es = EarlyStopping(monitor='val_loss', mode='min', verbose=1, patience=4)\n",
    "mc = ModelCheckpoint('best_model.keras', monitor='val_acc', mode='max', verbose=1, save_best_only=True)\n",
    "\n",
    "model.compile(optimizer='rmsprop', loss='binary_crossentropy', metrics=['acc'])\n",
    "history = model.fit(X_train, y_train, epochs=15, callbacks=[es, mc], batch_size=64, validation_split=0.2)"
   ]
  },
  {
   "cell_type": "code",
   "execution_count": null,
   "id": "7b692e67",
   "metadata": {},
   "outputs": [
    {
     "ename": "NameError",
     "evalue": "name 'model' is not defined",
     "output_type": "error",
     "traceback": [
      "\u001b[0;31m---------------------------------------------------------------------------\u001b[0m",
      "\u001b[0;31mNameError\u001b[0m                                 Traceback (most recent call last)",
      "Cell \u001b[0;32mIn[25], line 1\u001b[0m\n\u001b[0;32m----> 1\u001b[0m model\u001b[38;5;241m.\u001b[39msummary()\n",
      "\u001b[0;31mNameError\u001b[0m: name 'model' is not defined"
     ]
    }
   ],
   "source": [
    "model.summary()"
   ]
  },
  {
   "cell_type": "code",
   "execution_count": 29,
   "id": "7825f0d9",
   "metadata": {},
   "outputs": [
    {
     "name": "stdout",
     "output_type": "stream",
     "text": [
      "\u001b[1m4884/4884\u001b[0m \u001b[32m━━━━━━━━━━━━━━━━━━━━\u001b[0m\u001b[37m\u001b[0m \u001b[1m45s\u001b[0m 9ms/step - acc: 0.9102 - loss: 0.2339\n",
      "\n",
      " 테스트 정확도: 0.9105\n"
     ]
    }
   ],
   "source": [
    "# 평가지표: 정확도\n",
    "loaded_model = load_model('best_model.keras')\n",
    "print(\"\\n 테스트 정확도: %.4f\" % (loaded_model.evaluate(X_test, y_test)[1]))"
   ]
  },
  {
   "cell_type": "code",
   "execution_count": 27,
   "id": "f1b16f45",
   "metadata": {},
   "outputs": [
    {
     "name": "stdout",
     "output_type": "stream",
     "text": [
      "\u001b[1m  16/4884\u001b[0m \u001b[37m━━━━━━━━━━━━━━━━━━━━\u001b[0m \u001b[1m33s\u001b[0m 7ms/step  "
     ]
    },
    {
     "name": "stderr",
     "output_type": "stream",
     "text": [
      "2024-05-01 14:04:12.319878: I tensorflow/core/grappler/optimizers/custom_graph_optimizer_registry.cc:117] Plugin optimizer for device_type GPU is enabled.\n"
     ]
    },
    {
     "name": "stdout",
     "output_type": "stream",
     "text": [
      "\u001b[1m4884/4884\u001b[0m \u001b[32m━━━━━━━━━━━━━━━━━━━━\u001b[0m\u001b[37m\u001b[0m \u001b[1m33s\u001b[0m 7ms/step\n",
      "\n",
      " 테스트 F1 Score: 0.9231\n"
     ]
    }
   ],
   "source": [
    "# 평가지표: F1 Score\n",
    "from sklearn.metrics import f1_score\n",
    "\n",
    "# 모델 로드\n",
    "loaded_model = load_model('best_model.keras')\n",
    "\n",
    "# 테스트 데이터에 대한 예측 클래스 확률 예측\n",
    "y_pred_prob = loaded_model.predict(X_test)\n",
    "\n",
    "# 클래스 추정\n",
    "y_pred = (y_pred_prob > 0.5).astype(int)\n",
    "\n",
    "# F1 점수 계산\n",
    "f1 = f1_score(y_test, y_pred)\n",
    "\n",
    "# F1 점수 출력\n",
    "print(\"\\n 테스트 F1 Score: %.4f\" % f1)\n"
   ]
  },
  {
   "cell_type": "markdown",
   "id": "1c66bba1",
   "metadata": {},
   "source": [
    "### 리뷰 예측"
   ]
  },
  {
   "cell_type": "code",
   "execution_count": 28,
   "id": "b71792c2",
   "metadata": {},
   "outputs": [
    {
     "data": {
      "text/html": [
       "<div>\n",
       "<style scoped>\n",
       "    .dataframe tbody tr th:only-of-type {\n",
       "        vertical-align: middle;\n",
       "    }\n",
       "\n",
       "    .dataframe tbody tr th {\n",
       "        vertical-align: top;\n",
       "    }\n",
       "\n",
       "    .dataframe thead th {\n",
       "        text-align: right;\n",
       "    }\n",
       "</style>\n",
       "<table border=\"1\" class=\"dataframe\">\n",
       "  <thead>\n",
       "    <tr style=\"text-align: right;\">\n",
       "      <th></th>\n",
       "      <th>RawText</th>\n",
       "      <th>ReviewScore</th>\n",
       "      <th>ProductName</th>\n",
       "      <th>labels</th>\n",
       "      <th>tokenized</th>\n",
       "    </tr>\n",
       "  </thead>\n",
       "  <tbody>\n",
       "    <tr>\n",
       "      <th>367669</th>\n",
       "      <td>선물해줬는데 너무 마음에 들어하네요</td>\n",
       "      <td>5</td>\n",
       "      <td>멜* 마운틴 스텝퍼 하체 실내 기구</td>\n",
       "      <td>1</td>\n",
       "      <td>['선물', '해줬는데', '너무', '마음', '들어하네요']</td>\n",
       "    </tr>\n",
       "    <tr>\n",
       "      <th>609714</th>\n",
       "      <td>귯귯이댜용</td>\n",
       "      <td>5</td>\n",
       "      <td>NaN</td>\n",
       "      <td>1</td>\n",
       "      <td>['귯귯이댜용']</td>\n",
       "    </tr>\n",
       "    <tr>\n",
       "      <th>59377</th>\n",
       "      <td>화이트 색상을 좋아하는데 구할 수 있어서 매우 좋았어요 듣던대로 기능들도 다양하고 ...</td>\n",
       "      <td>5</td>\n",
       "      <td>마샬 STANMORE II 해외구매</td>\n",
       "      <td>0</td>\n",
       "      <td>['화이트', '색상', '좋아하는데', '할', '수', '있어서', '매우', ...</td>\n",
       "    </tr>\n",
       "    <tr>\n",
       "      <th>388815</th>\n",
       "      <td>아들방에 사용하는데 무등등도있고 좋아해요</td>\n",
       "      <td>5</td>\n",
       "      <td>오* 무드1000 미니 가습기</td>\n",
       "      <td>1</td>\n",
       "      <td>['아들', '방', '사용', '하는데', '무등등', '있고', '좋아해요']</td>\n",
       "    </tr>\n",
       "    <tr>\n",
       "      <th>354222</th>\n",
       "      <td>처음 써보는데 느낌 좋아요~\\n빠른배송 감사합니다</td>\n",
       "      <td>4</td>\n",
       "      <td>닥*바*오 온가족용 에코 로션 500g</td>\n",
       "      <td>1</td>\n",
       "      <td>['처음', '써', '보는데', '느낌', '좋아요', '~', '\\n', '빠른...</td>\n",
       "    </tr>\n",
       "    <tr>\n",
       "      <th>...</th>\n",
       "      <td>...</td>\n",
       "      <td>...</td>\n",
       "      <td>...</td>\n",
       "      <td>...</td>\n",
       "      <td>...</td>\n",
       "    </tr>\n",
       "    <tr>\n",
       "      <th>146216</th>\n",
       "      <td>시누가 써보라고 주길래 써봤더니 좋네요 간편하고 향도 좋고 그래서 주문해요</td>\n",
       "      <td>5</td>\n",
       "      <td>OO 다** 변기크리너 리필 12매입 8개</td>\n",
       "      <td>0</td>\n",
       "      <td>['시', '누가', '써', '보라', '고', '주길래', '써', '봤더니',...</td>\n",
       "    </tr>\n",
       "    <tr>\n",
       "      <th>277175</th>\n",
       "      <td>향이 은은하네요 선물용으로 좋아요~|</td>\n",
       "      <td>5</td>\n",
       "      <td>에이** 네이처 디퓨저 200ml</td>\n",
       "      <td>1</td>\n",
       "      <td>['향', '은은하네요', '선물', '용', '좋아요', '~|']</td>\n",
       "    </tr>\n",
       "    <tr>\n",
       "      <th>181271</th>\n",
       "      <td>색상과 디자인이  그림으로 보는것과 많이 상이한것 같아 별루네요 신랑에게 선물했는데...</td>\n",
       "      <td>100</td>\n",
       "      <td>OO 스** 남성 샌들</td>\n",
       "      <td>1</td>\n",
       "      <td>['색상', '디자인', '그림', '보는것과', '많이', '상이', '한', '...</td>\n",
       "    </tr>\n",
       "    <tr>\n",
       "      <th>503853</th>\n",
       "      <td>종아리 보톡스 맞아도 효과없어서 전체적인 하비라...소프트로 샀습니다 ㅡ이거해주면 ...</td>\n",
       "      <td>2</td>\n",
       "      <td>NaN</td>\n",
       "      <td>0</td>\n",
       "      <td>['종아리', '보톡스', '맞아도', '효과', '없어서', '전체', '적', ...</td>\n",
       "    </tr>\n",
       "    <tr>\n",
       "      <th>41210</th>\n",
       "      <td>작은사이즈 하나 서비스로 보내주셔서 감사해요. 배송상태도 박스가 아주 깨끗하게, 찌...</td>\n",
       "      <td>5</td>\n",
       "      <td>OO 베** 세탁세제 일반용 2L 6개</td>\n",
       "      <td>0</td>\n",
       "      <td>['작은', '사이즈', '서비스', '보내주셔서', '감사해요', '.', '배송...</td>\n",
       "    </tr>\n",
       "  </tbody>\n",
       "</table>\n",
       "<p>156258 rows × 5 columns</p>\n",
       "</div>"
      ],
      "text/plain": [
       "                                                  RawText  ReviewScore  \\\n",
       "367669                                선물해줬는데 너무 마음에 들어하네요            5   \n",
       "609714                                              귯귯이댜용            5   \n",
       "59377   화이트 색상을 좋아하는데 구할 수 있어서 매우 좋았어요 듣던대로 기능들도 다양하고 ...            5   \n",
       "388815                             아들방에 사용하는데 무등등도있고 좋아해요            5   \n",
       "354222                        처음 써보는데 느낌 좋아요~\\n빠른배송 감사합니다            4   \n",
       "...                                                   ...          ...   \n",
       "146216          시누가 써보라고 주길래 써봤더니 좋네요 간편하고 향도 좋고 그래서 주문해요            5   \n",
       "277175                               향이 은은하네요 선물용으로 좋아요~|            5   \n",
       "181271  색상과 디자인이  그림으로 보는것과 많이 상이한것 같아 별루네요 신랑에게 선물했는데...          100   \n",
       "503853  종아리 보톡스 맞아도 효과없어서 전체적인 하비라...소프트로 샀습니다 ㅡ이거해주면 ...            2   \n",
       "41210   작은사이즈 하나 서비스로 보내주셔서 감사해요. 배송상태도 박스가 아주 깨끗하게, 찌...            5   \n",
       "\n",
       "                    ProductName  labels  \\\n",
       "367669      멜* 마운틴 스텝퍼 하체 실내 기구       1   \n",
       "609714                      NaN       1   \n",
       "59377       마샬 STANMORE II 해외구매       0   \n",
       "388815         오* 무드1000 미니 가습기       1   \n",
       "354222    닥*바*오 온가족용 에코 로션 500g       1   \n",
       "...                         ...     ...   \n",
       "146216  OO 다** 변기크리너 리필 12매입 8개       0   \n",
       "277175       에이** 네이처 디퓨저 200ml       1   \n",
       "181271             OO 스** 남성 샌들       1   \n",
       "503853                      NaN       0   \n",
       "41210     OO 베** 세탁세제 일반용 2L 6개       0   \n",
       "\n",
       "                                                tokenized  \n",
       "367669                ['선물', '해줬는데', '너무', '마음', '들어하네요']  \n",
       "609714                                          ['귯귯이댜용']  \n",
       "59377   ['화이트', '색상', '좋아하는데', '할', '수', '있어서', '매우', ...  \n",
       "388815      ['아들', '방', '사용', '하는데', '무등등', '있고', '좋아해요']  \n",
       "354222  ['처음', '써', '보는데', '느낌', '좋아요', '~', '\\n', '빠른...  \n",
       "...                                                   ...  \n",
       "146216  ['시', '누가', '써', '보라', '고', '주길래', '써', '봤더니',...  \n",
       "277175             ['향', '은은하네요', '선물', '용', '좋아요', '~|']  \n",
       "181271  ['색상', '디자인', '그림', '보는것과', '많이', '상이', '한', '...  \n",
       "503853  ['종아리', '보톡스', '맞아도', '효과', '없어서', '전체', '적', ...  \n",
       "41210   ['작은', '사이즈', '서비스', '보내주셔서', '감사해요', '.', '배송...  \n",
       "\n",
       "[156258 rows x 5 columns]"
      ]
     },
     "execution_count": 28,
     "metadata": {},
     "output_type": "execute_result"
    }
   ],
   "source": [
    "test_data"
   ]
  },
  {
   "cell_type": "markdown",
   "id": "4824e6c6",
   "metadata": {},
   "source": [
    "with open('stopwords.txt', 'r', encoding='utf-8') as f:\n",
    "    stopwords = f.readlines()\n",
    "stopwords = [x.replace('\\n','') for x in stopwords] # stopword 파일의 줄바꿈 문자 제거"
   ]
  },
  {
   "cell_type": "code",
   "execution_count": 28,
   "id": "65c2b5c0",
   "metadata": {},
   "outputs": [],
   "source": [
    "# 평가지표: 정확도\n",
    "def sentiment_predict(new_sentence):\n",
    "    encoded = tokenizer.texts_to_sequences([new_sentence])\n",
    "    pad_new = pad_sequences(encoded, maxlen = max_len)\n",
    "\n",
    "    score = float(loaded_model.predict(pad_new))\n",
    "    if(score > 0.5):\n",
    "        return \"{:.2f}% 확률로 긍정 리뷰입니다.\".format(score * 100)\n",
    "    else:\n",
    "        return \"{:.2f}% 확률로 부정 리뷰입니다.\".format((1 - score) * 100)"
   ]
  },
  {
   "cell_type": "code",
   "execution_count": 30,
   "id": "138abcb1",
   "metadata": {},
   "outputs": [],
   "source": [
    "# 평가지표: F1 Score\n",
    "\n",
    "def sentiment_predict_f1(new_sentence):\n",
    "    encoded = tokenizer.texts_to_sequences([new_sentence])\n",
    "    pad_new = pad_sequences(encoded, maxlen=max_len)\n",
    "\n",
    "    # 모델의 예측 결과\n",
    "    score = loaded_model.predict(pad_new)\n",
    "    # 클래스 추정\n",
    "    threshold = 0.5  # 임계값 설정\n",
    "    y_pred = (score > threshold).astype(int)\n",
    "\n",
    "    # F1 점수 계산\n",
    "    f1 = f1_score([1], y_pred)  # 긍정 클래스에 대한 F1 점수 계산\n",
    "\n",
    "    if y_pred == 1:\n",
    "        return \"{:.2f}% 확률로 긍정 리뷰입니다. (F1 Score: {:.2f})\".format(score[0][0] * 100, f1)\n",
    "    else:\n",
    "        return \"{:.2f}% 확률로 부정 리뷰입니다. (F1 Score: {:.2f})\".format((1 - score[0][0]) * 100, f1)\n"
   ]
  },
  {
   "cell_type": "code",
   "execution_count": 31,
   "id": "67b063de",
   "metadata": {
    "scrolled": true
   },
   "outputs": [
    {
     "name": "stdout",
     "output_type": "stream",
     "text": [
      "아들방에 사용하는데 무등등도있고 좋아해요\n",
      "\u001b[1m1/1\u001b[0m \u001b[32m━━━━━━━━━━━━━━━━━━━━\u001b[0m\u001b[37m\u001b[0m \u001b[1m0s\u001b[0m 79ms/step\n",
      "98.37% 확률로 긍정 리뷰입니다. (F1 Score: 1.00)\n"
     ]
    }
   ],
   "source": [
    "print(test_data.loc[test_data['labels'] == 1, 'RawText'].tolist()[2])\n",
    "example = test_data.loc[test_data['labels'] == 1, 'tokenized'].tolist()[2]\n",
    "print(sentiment_predict_f1(example))"
   ]
  },
  {
   "cell_type": "code",
   "execution_count": 32,
   "id": "3cdd948b",
   "metadata": {},
   "outputs": [
    {
     "name": "stdout",
     "output_type": "stream",
     "text": [
      "싼맛에 쓰는거죠. 이쁘거나 튼튼하거나 그렇지는 않습니다. 마감도 그리 좋지는 않네요. 펴지니까 그냥저냥 쓸려구요..\n",
      "\u001b[1m1/1\u001b[0m \u001b[32m━━━━━━━━━━━━━━━━━━━━\u001b[0m\u001b[37m\u001b[0m \u001b[1m0s\u001b[0m 11ms/step\n",
      "96.58% 확률로 부정 리뷰입니다. (F1 Score: 0.00)\n"
     ]
    }
   ],
   "source": [
    "print(test_data.loc[test_data['labels'] == 0, 'RawText'].tolist()[3])\n",
    "example = test_data.loc[test_data['labels'] == 0, 'tokenized'].tolist()[3]\n",
    "print(sentiment_predict_f1(example))"
   ]
  },
  {
   "cell_type": "code",
   "execution_count": null,
   "id": "0faa82b8",
   "metadata": {},
   "outputs": [],
   "source": []
  }
 ],
 "metadata": {
  "kernelspec": {
   "display_name": "virtual_envs",
   "language": "python",
   "name": "python3"
  },
  "language_info": {
   "codemirror_mode": {
    "name": "ipython",
    "version": 3
   },
   "file_extension": ".py",
   "mimetype": "text/x-python",
   "name": "python",
   "nbconvert_exporter": "python",
   "pygments_lexer": "ipython3",
   "version": "3.11.5"
  }
 },
 "nbformat": 4,
 "nbformat_minor": 5
}
